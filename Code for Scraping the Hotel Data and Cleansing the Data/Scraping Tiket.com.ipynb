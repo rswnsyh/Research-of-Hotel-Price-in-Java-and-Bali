{
 "cells": [
  {
   "cell_type": "code",
   "execution_count": 1,
   "metadata": {},
   "outputs": [],
   "source": [
    "from selenium import webdriver\n",
    "from time import sleep\n",
    "import pandas as pd\n",
    "import openpyxl\n",
    "import numpy as np"
   ]
  },
  {
   "cell_type": "code",
   "execution_count": 2,
   "metadata": {},
   "outputs": [],
   "source": [
    "data_nama = []\n",
    "data_bintang = []\n",
    "data_daerah = []\n",
    "data_rating = []\n",
    "data_harga_awal = []\n",
    "data_harga_diskon = []"
   ]
  },
  {
   "cell_type": "code",
   "execution_count": 3,
   "metadata": {},
   "outputs": [],
   "source": [
    "def ambil_data():\n",
    "    sleep(3)\n",
    "    content = driver.find_element_by_id(\"app\")    \n",
    "    semua_hotel = content.find_element_by_class_name(\"hotel-card-list-desktop\")\n",
    "    keterangan = semua_hotel.find_elements_by_class_name(\"data-wrap\")\n",
    "\n",
    "    for ket_i in (keterangan):\n",
    "\n",
    "        #Ambil nama\n",
    "        nama = ket_i.find_element_by_class_name(\"title\").text\n",
    "        data_nama.append(nama)\n",
    "\n",
    "        #Ambil bintang\n",
    "        try:\n",
    "            class_bintang = ket_i.find_element_by_class_name(\"star-wrap\")\n",
    "            list_bintang = class_bintang.find_elements_by_tag_name(\"i\")\n",
    "            bintang = len(list_bintang)\n",
    "        except:\n",
    "            bintang = 0\n",
    "            pass\n",
    "        data_bintang.append(bintang)\n",
    "\n",
    "        #Ambil daerah\n",
    "        daerah = ket_i.find_element_by_class_name(\"location\").text\n",
    "        data_daerah.append(daerah)\n",
    "\n",
    "        #Ambil rating\n",
    "        try:\n",
    "            class_rating = ket_i.find_element_by_class_name(\"tiket-rating-wrap\")\n",
    "            rating = class_rating.find_element_by_class_name(\"tiket-rating\").text\n",
    "        except:\n",
    "            rating = 0\n",
    "            pass\n",
    "        data_rating.append(rating)\n",
    "\n",
    "        #Ambil harga\n",
    "        class_harga = ket_i.find_element_by_class_name(\"price-wrap\")\n",
    "        try :\n",
    "            harga_awal = class_harga.find_element_by_class_name(\"before-price\").text.replace(\"IDR\",\"\").replace(\".\",\"\").replace(\" \",\"\")\n",
    "        except:\n",
    "            harga_awal = 0\n",
    "            pass\n",
    "        data_harga_awal.append(harga_awal)\n",
    "        try :\n",
    "            harga_diskon = class_harga.find_element_by_class_name(\"after-price\").text.replace(\"IDR\",\"\").replace(\".\",\"\").replace(\"\\n\",\"\")\n",
    "        except:\n",
    "            harga_diskon = 0\n",
    "            pass \n",
    "        data_harga_diskon.append(harga_diskon)"
   ]
  },
  {
   "cell_type": "code",
   "execution_count": 4,
   "metadata": {},
   "outputs": [],
   "source": [
    "#Buka Tiket.com\n",
    "link = \"\"\n",
    "path = \"C:\\Program Files (x86)\\chromedriver.exe\"\n",
    "driver = webdriver.Chrome(path)\n",
    "driver.get(link)\n",
    "for i in range(10):\n",
    "    ambil_data()\n",
    "    sleep(3)\n",
    "    pagination = driver.find_element_by_class_name(\"pagination\")\n",
    "    next_button = pagination.find_element_by_class_name(\"next\")\n",
    "    next_button.click()\n",
    "\n",
    "data = np.c_[data_nama, data_bintang, data_daerah, data_rating, data_harga_awal, data_harga_diskon]"
   ]
  },
  {
   "cell_type": "code",
   "execution_count": 5,
   "metadata": {},
   "outputs": [
    {
     "name": "stdout",
     "output_type": "stream",
     "text": [
      "                                               Nama Bintang  \\\n",
      "0                       De Paviljoen Bandung by HIM       4   \n",
      "1                          The Trans Luxury Bandung       5   \n",
      "2                           Park View Hotel Bandung       4   \n",
      "3                                 Janevalla Bandung       4   \n",
      "4                 Art Deco Luxury Hotel & Residence       4   \n",
      "..                                              ...     ...   \n",
      "260                        Hotel California Bandung       3   \n",
      "261                          Villa Gardenia Bandung       2   \n",
      "262  Kalya Hotel (Formerly Tune Hotel Bandung Dago)       3   \n",
      "263                           Asmila Boutique Hotel       4   \n",
      "264                     Zest Hotel Sukajadi Bandung       3   \n",
      "\n",
      "                   Daerah Rating Harga Awal Harga Diskon  \n",
      "0        Citarum, Bandung    4.3          0      1705000  \n",
      "1    Batununggal, Bandung    4.6    3438300      2865249  \n",
      "2       Sukajadi, Bandung    3.7          0       729000  \n",
      "3           Riau, Bandung    4.4    1282051      1256410  \n",
      "4    Ciumbuleuit, Bandung    4.1          0            0  \n",
      "..                    ...    ...        ...          ...  \n",
      "260   Cihampelas, Bandung    4.3          0       537661  \n",
      "261      Lembang, Bandung    4.4    2564532      1850189  \n",
      "262      Coblong, Bandung    4.2          0            0  \n",
      "263    Setiabudi, Bandung    3.9     600000       449999  \n",
      "264     Sukajadi, Bandung    4.3          0       319998  \n",
      "\n",
      "[265 rows x 6 columns]\n"
     ]
    }
   ],
   "source": [
    "df_data = pd.DataFrame(data, columns = [\"Nama\", \"Bintang\", \"Daerah\", \"Rating\", \"Harga Awal\", \"Harga Diskon\"])\n",
    "print(df_data)\n",
    "df_data.to_excel(r\"C:\\Users\\Acer\\Downloads\\df_tiketcom.xlsx\")"
   ]
  }
 ],
 "metadata": {
  "kernelspec": {
   "display_name": "Python 3 (ipykernel)",
   "language": "python",
   "name": "python3"
  },
  "language_info": {
   "codemirror_mode": {
    "name": "ipython",
    "version": 3
   },
   "file_extension": ".py",
   "mimetype": "text/x-python",
   "name": "python",
   "nbconvert_exporter": "python",
   "pygments_lexer": "ipython3",
   "version": "3.9.12"
  }
 },
 "nbformat": 4,
 "nbformat_minor": 4
}
