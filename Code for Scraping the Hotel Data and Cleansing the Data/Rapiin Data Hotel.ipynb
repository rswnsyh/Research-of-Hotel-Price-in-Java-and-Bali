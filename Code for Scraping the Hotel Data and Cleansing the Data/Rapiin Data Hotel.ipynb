{
 "cells": [
  {
   "cell_type": "code",
   "execution_count": 1,
   "metadata": {},
   "outputs": [],
   "source": [
    "import pandas as pd\n",
    "import numpy as np \n",
    "import openpyxl\n",
    "from pathlib import Path"
   ]
  },
  {
   "cell_type": "code",
   "execution_count": 2,
   "metadata": {
    "scrolled": false
   },
   "outputs": [
    {
     "name": "stdout",
     "output_type": "stream",
     "text": [
      "      Unnamed: 0                     Nama Hotel  Daerah  Alamat  Tipe  \\\n",
      "0            NaN                            NaN     NaN     NaN   NaN   \n",
      "1            NaN                            NaN     NaN     NaN   NaN   \n",
      "2            NaN         @HOM Platinum Gowongan     NaN     NaN   NaN   \n",
      "3            NaN           @HOM Premiere Timoho     NaN     NaN   NaN   \n",
      "4            NaN  @K Hotel Kaliurang Yogyakarta     NaN     NaN   NaN   \n",
      "...          ...                            ...     ...     ...   ...   \n",
      "2724         NaN                            NaN     NaN     NaN   NaN   \n",
      "2725         NaN                            NaN     NaN     NaN   NaN   \n",
      "2726         NaN                            NaN     NaN     NaN   NaN   \n",
      "2727         NaN                            NaN     NaN     NaN   NaN   \n",
      "2728         NaN                            NaN     NaN     NaN   NaN   \n",
      "\n",
      "      Bintang  Harga Awal  Unnamed: 7  Unnamed: 8  Unnamed: 9  ...  \\\n",
      "0         NaN      1111.0         NaN      1112.0         NaN  ...   \n",
      "1         NaN      1112.0      1119.0      1113.0      1120.0  ...   \n",
      "2         NaN         NaN         NaN         NaN         NaN  ...   \n",
      "3         NaN         NaN         NaN         NaN         NaN  ...   \n",
      "4         NaN         NaN         NaN         NaN         NaN  ...   \n",
      "...       ...         ...         ...         ...         ...  ...   \n",
      "2724      NaN         NaN         NaN         NaN         NaN  ...   \n",
      "2725      NaN         NaN         NaN         NaN         NaN  ...   \n",
      "2726      NaN         NaN         NaN         NaN         NaN  ...   \n",
      "2727      NaN         NaN         NaN         NaN         NaN  ...   \n",
      "2728      NaN         NaN         NaN         NaN         NaN  ...   \n",
      "\n",
      "      Unnamed: 48  Unnamed: 49  Unnamed: 50  Unnamed: 51  Unnamed: 52  \\\n",
      "0          1113.0       1114.0       1115.0       1116.0       1117.0   \n",
      "1             NaN          NaN          NaN          NaN          NaN   \n",
      "2             NaN          NaN          NaN          NaN          NaN   \n",
      "3             NaN          NaN          NaN          NaN          NaN   \n",
      "4             NaN          NaN          NaN          NaN          NaN   \n",
      "...           ...          ...          ...          ...          ...   \n",
      "2724          NaN          NaN          NaN          NaN          NaN   \n",
      "2725          NaN          NaN          NaN          NaN          NaN   \n",
      "2726          NaN          NaN          NaN          NaN          NaN   \n",
      "2727          NaN          NaN          NaN          NaN          NaN   \n",
      "2728          NaN          NaN          NaN          NaN          NaN   \n",
      "\n",
      "      Unnamed: 53  Unnamed: 54  Unnamed: 55  Fasilitas  Unnamed: 57  \n",
      "0          1118.0       1119.0       1120.0        NaN          NaN  \n",
      "1             NaN          NaN          NaN        NaN          NaN  \n",
      "2             NaN          NaN          NaN        NaN          NaN  \n",
      "3             NaN          NaN          NaN        NaN          NaN  \n",
      "4             NaN          NaN          NaN        NaN          NaN  \n",
      "...           ...          ...          ...        ...          ...  \n",
      "2724          NaN          NaN          NaN        NaN          NaN  \n",
      "2725          NaN          NaN          NaN        NaN          NaN  \n",
      "2726          NaN          NaN          NaN        NaN          NaN  \n",
      "2727          NaN          NaN          NaN        NaN          NaN  \n",
      "2728          NaN          NaN          NaN        NaN          NaN  \n",
      "\n",
      "[2729 rows x 58 columns]\n"
     ]
    }
   ],
   "source": [
    "#Import data\n",
    "df1 = pd.read_excel(r'C:\\Users\\Acer\\OneDrive - Institut Teknologi Bandung\\Magang BI\\Data\\Web Scraping Hotel\\data fix 2\\data_fix_Yogyakarta2.xlsx', sheet_name=\"Sheet1\",engine = \"openpyxl\")\n",
    "data1 = np.array(df1)\n",
    "print(df1)"
   ]
  },
  {
   "cell_type": "code",
   "execution_count": null,
   "metadata": {},
   "outputs": [],
   "source": [
    "#index harga awal\n",
    "#1111 H+1 = 6\n",
    "#1111 H+7 = 7\n",
    "#1112 H+1 = 8\n",
    "#1112 H+7 = 9\n",
    "#dst\n",
    "\n",
    "#index harga diskon\n",
    "#1111 H+1 = 26\n",
    "#1111 H+7 = 27\n",
    "#1112 H+1 = 28\n",
    "#1112 H+7 = 29\n",
    "#dst\n",
    "\n",
    "#index rating\n",
    "#1111 = 46\n",
    "#1112 = 47\n",
    "#1113 = 48\n",
    "#1114 = 49\n",
    "#dst"
   ]
  },
  {
   "cell_type": "code",
   "execution_count": 22,
   "metadata": {},
   "outputs": [],
   "source": [
    "link = r'C:\\Users\\Acer\\OneDrive - Institut Teknologi Bandung\\Magang BI\\Data\\Web Scraping Hotel\\1120\\Traveloka\\Yogyakarta\\Yogyakarta_H+7.xlsx'\n",
    "df2 = pd.read_excel(link, sheet_name=\"Sheet1\",engine = \"openpyxl\")\n",
    "data2 = np.array(df2)\n",
    "\n",
    "for i in range(2,len(data1[:,1])):\n",
    "    for j in range(len(data2[:,1])):\n",
    "        if data1[i,1] == data2[j,1]:\n",
    "            data1[i,25] = data2[j,5] #masukin harga awal\n",
    "            data1[i,45] = data2[j,6] #masukin harga diskon\n",
    "            data1[i,55] = data2[j,4] #masukin rating (sekali aja, h+7 aja)\n",
    "            data1[i,2] = data2[j,3] #masukin daerah\n",
    "            data1[i,5] = data2[j,2] #masukin bintang\n",
    "            break\n",
    "    "
   ]
  },
  {
   "cell_type": "code",
   "execution_count": 23,
   "metadata": {},
   "outputs": [
    {
     "name": "stdout",
     "output_type": "stream",
     "text": [
      "       0                              1                                2   \\\n",
      "0     NaN                            NaN                              NaN   \n",
      "1     NaN                            NaN                              NaN   \n",
      "2     NaN         @HOM Platinum Gowongan       Jetis, Yogyakarta Province   \n",
      "3     NaN           @HOM Premiere Timoho  Umbulharjo, Yogyakarta Province   \n",
      "4     NaN  @K Hotel Kaliurang Yogyakarta   Kaliurang, Yogyakarta Province   \n",
      "...   ...                            ...                              ...   \n",
      "2724  NaN                            NaN                              NaN   \n",
      "2725  NaN                            NaN                              NaN   \n",
      "2726  NaN                            NaN                              NaN   \n",
      "2727  NaN                            NaN                              NaN   \n",
      "2728  NaN                            NaN                              NaN   \n",
      "\n",
      "       3    4    5       6       7        8       9   ...    48    49    50  \\\n",
      "0     NaN  NaN  NaN    1111     NaN     1112     NaN  ...  1113  1114  1115   \n",
      "1     NaN  NaN  NaN    1112    1119     1113    1120  ...   NaN   NaN   NaN   \n",
      "2     NaN  NaN    3     NaN     NaN      NaN     NaN  ...     0   NaN     0   \n",
      "3     NaN  NaN    3  476749     NaN      NaN     NaN  ...   8.6   8.6   8.6   \n",
      "4     NaN  NaN    4  850667  850667  1040000  850667  ...   8.4   8.4   8.4   \n",
      "...   ...  ...  ...     ...     ...      ...     ...  ...   ...   ...   ...   \n",
      "2724  NaN  NaN  NaN     NaN     NaN      NaN     NaN  ...   NaN   NaN   NaN   \n",
      "2725  NaN  NaN  NaN     NaN     NaN      NaN     NaN  ...   NaN   NaN   NaN   \n",
      "2726  NaN  NaN  NaN     NaN     NaN      NaN     NaN  ...   NaN   NaN   NaN   \n",
      "2727  NaN  NaN  NaN     NaN     NaN      NaN     NaN  ...   NaN   NaN   NaN   \n",
      "2728  NaN  NaN  NaN     NaN     NaN      NaN     NaN  ...   NaN   NaN   NaN   \n",
      "\n",
      "        51    52    53    54    55   56   57  \n",
      "0     1116  1117  1118  1119  1120  NaN  NaN  \n",
      "1      NaN   NaN   NaN   NaN   NaN  NaN  NaN  \n",
      "2        0     0   NaN   NaN     0  NaN  NaN  \n",
      "3      8.6   8.6   8.6   8.6   8.6  NaN  NaN  \n",
      "4      8.4   8.4   8.4   8.4   8.4  NaN  NaN  \n",
      "...    ...   ...   ...   ...   ...  ...  ...  \n",
      "2724   NaN   NaN   NaN   NaN   NaN  NaN  NaN  \n",
      "2725   NaN   NaN   NaN   NaN   NaN  NaN  NaN  \n",
      "2726   NaN   NaN   NaN   NaN   NaN  NaN  NaN  \n",
      "2727   NaN   NaN   NaN   NaN   NaN  NaN  NaN  \n",
      "2728   NaN   NaN   NaN   NaN   NaN  NaN  NaN  \n",
      "\n",
      "[2729 rows x 58 columns]\n"
     ]
    }
   ],
   "source": [
    "df_data = pd.DataFrame(data1)\n",
    "print(df_data)\n",
    "df_data.to_excel(r\"C:\\Users\\Acer\\Downloads\\data_rapi_yogyakarta.xlsx\")"
   ]
  }
 ],
 "metadata": {
  "kernelspec": {
   "display_name": "Python 3 (ipykernel)",
   "language": "python",
   "name": "python3"
  },
  "language_info": {
   "codemirror_mode": {
    "name": "ipython",
    "version": 3
   },
   "file_extension": ".py",
   "mimetype": "text/x-python",
   "name": "python",
   "nbconvert_exporter": "python",
   "pygments_lexer": "ipython3",
   "version": "3.9.12"
  }
 },
 "nbformat": 4,
 "nbformat_minor": 4
}
