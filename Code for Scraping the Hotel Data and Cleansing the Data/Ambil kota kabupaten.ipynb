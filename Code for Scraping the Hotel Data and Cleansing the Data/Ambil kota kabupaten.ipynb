{
 "cells": [
  {
   "cell_type": "code",
   "execution_count": 1,
   "metadata": {},
   "outputs": [],
   "source": [
    "import pandas as pd\n",
    "import numpy as np \n",
    "import openpyxl\n",
    "from pathlib import Path"
   ]
  },
  {
   "cell_type": "code",
   "execution_count": 2,
   "metadata": {},
   "outputs": [],
   "source": [
    "#Import data\n",
    "df = pd.read_excel(r'C:\\Users\\Acer\\OneDrive - Institut Teknologi Bandung\\Magang BI\\Data\\Web Scraping Hotel\\data fix 2\\data_fix_Yogyakarta2.xlsx', sheet_name=\"Hotel_2\",engine = \"openpyxl\")\n",
    "data = np.array(df)\n",
    "\n",
    "df2 = pd.read_excel(r'C:\\Users\\Acer\\OneDrive - Institut Teknologi Bandung\\Magang BI\\Data\\Web Scraping Hotel\\data fix\\Kota.xlsx', sheet_name=\"Yogyakarta\",engine = \"openpyxl\")\n",
    "data2 = np.array(df2)"
   ]
  },
  {
   "cell_type": "code",
   "execution_count": 3,
   "metadata": {},
   "outputs": [],
   "source": [
    "for i in range (2,len(data[:,0])):\n",
    "    for j in range(len(data2[:,0])):\n",
    "        if data[i,1]==data2[j,0]:\n",
    "            data[i,97]=data2[j,1]"
   ]
  },
  {
   "cell_type": "code",
   "execution_count": 4,
   "metadata": {},
   "outputs": [
    {
     "name": "stdout",
     "output_type": "stream",
     "text": [
      "                                                    0   \\\n",
      "0                                                  NaN   \n",
      "1                                                  NaN   \n",
      "2                              Griya Godean Yogyakarta   \n",
      "3                               Jogja Backpacker Rooms   \n",
      "4                             Hotel Karunia Yogyakarta   \n",
      "..                                                 ...   \n",
      "437   GRAND ASTON Hotel & Convention Center Yogyakarta   \n",
      "438  Griya Persada Convention Hotel & Resort Kaliurang   \n",
      "439                                Crystal Lotus Hotel   \n",
      "440           Sahid Raya Hotel & Convention Yogyakarta   \n",
      "441                                      Hotel Virgo 2   \n",
      "\n",
      "                                        1   \\\n",
      "0                                      NaN   \n",
      "1                                      NaN   \n",
      "2             Kasihan, Yogyakarta Province   \n",
      "3            Ngemplak, Yogyakarta Province   \n",
      "4    Malioboro Street, Yogyakarta Province   \n",
      "..                                     ...   \n",
      "437      Gondokusuman, Yogyakarta Province   \n",
      "438         Kaliurang, Yogyakarta Province   \n",
      "439             Mlati, Yogyakarta Province   \n",
      "440             Depok, Yogyakarta Province   \n",
      "441  Malioboro Street, Yogyakarta Province   \n",
      "\n",
      "                                                    2       3    4        5   \\\n",
      "0                                                  NaN     NaN  NaN      H+1   \n",
      "1                                                  NaN     NaN  NaN     1112   \n",
      "2    Jalan Godean Km 4 No.10, Kasihan, Yogyakarta, ...  HOTELS    0      NaN   \n",
      "3    Desa Nglarang, Malangrejo, Wedomartani, Ngempl...  HOTELS    0   180000   \n",
      "4    Jalan Sosrowijayan 78, Malioboro Street, Yogya...  HOTELS    0   133333   \n",
      "..                                                 ...     ...  ...      ...   \n",
      "437  Jalan Urip Sumoharjo No.37, Gondokusuman, Yogy...  HOTELS    5  1877333   \n",
      "438  Jln. Boyong 99, Kaliurang Barat, Pakem, Kaliur...  HOTELS    4  3400000   \n",
      "439  Jl. Magelang KM 5.2 Sinduadi, Mlati, Sleman, M...  HOTELS    4   774604   \n",
      "440  Jalan Babarsari, Tambakbayan, Caturtunggal Dep...  HOTELS    4   514568   \n",
      "441  Sosrowijayan Wetan GG.11 GT 1 No. 148D, Maliob...  HOTELS    0      NaN   \n",
      "\n",
      "           6            7            8            9   ...   88           89  \\\n",
      "0         NaN          NaN          NaN          NaN  ...  NaN          NaN   \n",
      "1        1113         1114         1115         1116  ...  NaN          NaN   \n",
      "2         NaN          NaN          NaN          NaN  ...  NaN        99000   \n",
      "3      180000       180000       180000       180000  ...  NaN        99000   \n",
      "4         NaN       133333       133333       133333  ...  NaN       100000   \n",
      "..        ...          ...          ...          ...  ...  ...          ...   \n",
      "437  5.56e+06    1.408e+06  1.52533e+06  1.52533e+06  ...    1  5.55556e+06   \n",
      "438   3.4e+06  1.66667e+06       550000       550000  ...    1   2.5375e+06   \n",
      "439   4.5e+06       753968       680953       637036  ...    1       750000   \n",
      "440       NaN       500000       500000       550000  ...  NaN     3.15e+06   \n",
      "441       NaN       200000       186667       186667  ...  NaN       150000   \n",
      "\n",
      "         90       91         92      93       94   95   96          97  \n",
      "0       NaN      NaN        NaN     NaN      NaN  NaN  NaN         NaN  \n",
      "1       NaN      NaN        NaN     NaN      NaN  NaN  NaN         NaN  \n",
      "2     99000        1     102599   99001  1.03634    1    0      Bantul  \n",
      "3     99000        1      99000   99000        1    1    0      Sleman  \n",
      "4    100000        1     100000  100000        1    1    0  Yogyakarta  \n",
      "..      ...      ...        ...     ...      ...  ...  ...         ...  \n",
      "437  844800  6.57618  1.408e+06  836000  1.68421    0    1  Yogyakarta  \n",
      "438  385000  6.59091   2.38e+06  315000  7.55556    0    1      Sleman  \n",
      "439  476667  1.57343     722222  444444    1.625    1    0      Sleman  \n",
      "440  360000     8.75     850000  340000      2.5    0    1      Sleman  \n",
      "441  140000  1.07143     150000  140000  1.07143    1    0  Yogyakarta  \n",
      "\n",
      "[442 rows x 98 columns]\n"
     ]
    }
   ],
   "source": [
    "df_data = pd.DataFrame(data)\n",
    "print(df_data)\n",
    "df_data.to_excel(r\"C:\\Users\\Acer\\Downloads\\data_daerah.xlsx\")"
   ]
  }
 ],
 "metadata": {
  "kernelspec": {
   "display_name": "Python 3 (ipykernel)",
   "language": "python",
   "name": "python3"
  },
  "language_info": {
   "codemirror_mode": {
    "name": "ipython",
    "version": 3
   },
   "file_extension": ".py",
   "mimetype": "text/x-python",
   "name": "python",
   "nbconvert_exporter": "python",
   "pygments_lexer": "ipython3",
   "version": "3.9.12"
  }
 },
 "nbformat": 4,
 "nbformat_minor": 4
}
