{
 "cells": [
  {
   "cell_type": "code",
   "execution_count": 1,
   "metadata": {},
   "outputs": [],
   "source": [
    "import pandas as pd\n",
    "import numpy as np \n",
    "import openpyxl\n",
    "from pathlib import Path"
   ]
  },
  {
   "cell_type": "code",
   "execution_count": 2,
   "metadata": {},
   "outputs": [
    {
     "name": "stdout",
     "output_type": "stream",
     "text": [
      "AC\n"
     ]
    }
   ],
   "source": [
    "#Import data\n",
    "df = pd.read_excel(r'C:\\Users\\Acer\\OneDrive - Institut Teknologi Bandung\\Magang BI\\Data\\Web Scraping Hotel\\data fix\\data_fix_Yogyakarta.xlsx', sheet_name=\"Hotel_2\",engine = \"openpyxl\")\n",
    "data = np.array(df)\n",
    "var_fasil = df.columns\n",
    "print(var_fasil[103])"
   ]
  },
  {
   "cell_type": "code",
   "execution_count": 3,
   "metadata": {},
   "outputs": [],
   "source": [
    "#Fasilitas 70\n",
    "#AC 103\n",
    "#Restaurant 104\n",
    "#24-Hour Front Desk 105\n",
    "#Elevator 106\n",
    "#WiFi 107\n",
    "#Parking 108\n",
    "#Swimming Pool 109\n",
    "\n",
    "for i in range (2,len(data[:,70])):\n",
    "    fasil = str(data[i,70]).split(\",\")\n",
    "    for j in range (len(fasil)):\n",
    "        if fasil[j] == var_fasil[103]:\n",
    "            data[i,103] = 1\n",
    "        elif fasil[j] == var_fasil[104]:\n",
    "            data[i,104] = 1\n",
    "        elif fasil[j] == var_fasil[105]:\n",
    "            data[i,105] = 1\n",
    "        elif fasil[j] == var_fasil[106]:\n",
    "            data[i,106] = 1\n",
    "        elif fasil[j] == var_fasil[107]:\n",
    "            data[i,107] = 1\n",
    "        elif fasil[j] == var_fasil[108]:\n",
    "            data[i,108] = 1\n",
    "        elif fasil[j] == var_fasil[109]:\n",
    "            data[i,109] = 1\n",
    "        "
   ]
  },
  {
   "cell_type": "code",
   "execution_count": 4,
   "metadata": {},
   "outputs": [
    {
     "name": "stdout",
     "output_type": "stream",
     "text": [
      "                                                 0    \\\n",
      "0                                                NaN   \n",
      "1                                                NaN   \n",
      "2                                 Limasan Mbah Darmo   \n",
      "3    SPOT ON 90276 Mayasari Guesthouse Pantai Krakal   \n",
      "4                              Hotel Orchid Wonosari   \n",
      "..                                               ...   \n",
      "445                          OYO 90496 Izzi Ekslusif   \n",
      "446                                    Omah Sastro 1   \n",
      "447                               Primadona Homestay   \n",
      "448                               OYO 90253 D'helomi   \n",
      "449               Green Belt Near Bandara Adisucipto   \n",
      "\n",
      "                                  1    \\\n",
      "0                                 NaN   \n",
      "1                                 NaN   \n",
      "2          Tepus, Yogyakarta Province   \n",
      "3    Tanjungsari, Yogyakarta Province   \n",
      "4           Mulo, Yogyakarta Province   \n",
      "..                                ...   \n",
      "445        Depok, Yogyakarta Province   \n",
      "446        Depok, Yogyakarta Province   \n",
      "447    Kaliurang, Yogyakarta Province   \n",
      "448        Depok, Yogyakarta Province   \n",
      "449     Ngemplak, Yogyakarta Province   \n",
      "\n",
      "                                                   2       3    4       5    \\\n",
      "0                                                  NaN     NaN  NaN     H+1   \n",
      "1                                                  NaN     NaN  NaN    1020   \n",
      "2    Pantai Indrayanti, Jl. Pantai Selatan Jawa, De...  HOTELS    0  272988   \n",
      "3    Area Hutan, Ngestirejo, Kec. Tanjungsari, Kabu...  HOTELS    0  219917   \n",
      "4    Jalan Baron KM 9, Mulo Karang Asem, Wonosari, ...  HOTELS    3  466667   \n",
      "..                                                 ...     ...  ...     ...   \n",
      "445  316, Hotel Srikandi, Jalan Tantular, Condong C...  HOTELS    0  145981   \n",
      "446  Puri Gejayan C-31, Depok, Yogyakarta, Yogyakar...  HOTELS    1     NaN   \n",
      "447  Jl. Kaliurang KM 23, Banteng, Hargobinangun, K...  HOTELS  2.5  324693   \n",
      "448  Ringinsari RT 6/RW 50, Depok, Yogyakarta, Yogy...  HOTELS    0  266612   \n",
      "449  Jl. Raya Tajem Gg Mandiri No. 7, Kp Pucanganom...  HOTELS    0     NaN   \n",
      "\n",
      "        6       7       8       9    ...  103  104  105  106  107  108  109  \\\n",
      "0       NaN     NaN     NaN     NaN  ...  NaN  NaN  NaN  NaN  NaN  NaN  NaN   \n",
      "1      1021    1022    1023    1024  ...  NaN  NaN  NaN  NaN  NaN  NaN  NaN   \n",
      "2    267656  334749  346969  339371  ...    1  NaN    1  NaN  NaN    1  NaN   \n",
      "3    275798  229337  360926  243364  ...  NaN  NaN  NaN  NaN  NaN  NaN  NaN   \n",
      "4    466667  466667  466667  466667  ...    1    1    1  NaN    1    1  NaN   \n",
      "..      ...     ...     ...     ...  ...  ...  ...  ...  ...  ...  ...  ...   \n",
      "445  160579  160579  167464  160579  ...    1  NaN    1  NaN    1    1  NaN   \n",
      "446  426667  533333  480000  426667  ...    1    1    1  NaN    1    1  NaN   \n",
      "447  324693  342387  342387  324693  ...  NaN  NaN  NaN  NaN  NaN  NaN  NaN   \n",
      "448  253145  250139  282482  266612  ...    1    1  NaN  NaN    1    1  NaN   \n",
      "449  400000  400000  400000  400000  ...    1  NaN    1  NaN    1    1  NaN   \n",
      "\n",
      "     110  111  112  \n",
      "0    NaN  NaN  NaN  \n",
      "1    NaN  NaN  NaN  \n",
      "2    NaN  NaN  NaN  \n",
      "3    NaN  NaN  NaN  \n",
      "4    NaN  NaN  NaN  \n",
      "..   ...  ...  ...  \n",
      "445  NaN  NaN  NaN  \n",
      "446  NaN  NaN  NaN  \n",
      "447  NaN  NaN  NaN  \n",
      "448  NaN  NaN  NaN  \n",
      "449  NaN  NaN  NaN  \n",
      "\n",
      "[450 rows x 113 columns]\n"
     ]
    }
   ],
   "source": [
    "df_data = pd.DataFrame(data)\n",
    "print(df_data)\n",
    "df_data.to_excel(r\"C:\\Users\\Acer\\Downloads\\data_var_fasil.xlsx\")"
   ]
  }
 ],
 "metadata": {
  "kernelspec": {
   "display_name": "Python 3 (ipykernel)",
   "language": "python",
   "name": "python3"
  },
  "language_info": {
   "codemirror_mode": {
    "name": "ipython",
    "version": 3
   },
   "file_extension": ".py",
   "mimetype": "text/x-python",
   "name": "python",
   "nbconvert_exporter": "python",
   "pygments_lexer": "ipython3",
   "version": "3.9.12"
  }
 },
 "nbformat": 4,
 "nbformat_minor": 4
}
