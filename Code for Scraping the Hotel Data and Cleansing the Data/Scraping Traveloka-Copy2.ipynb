{
 "cells": [
  {
   "cell_type": "code",
   "execution_count": 1,
   "metadata": {},
   "outputs": [],
   "source": [
    "from selenium import webdriver\n",
    "from time import sleep\n",
    "import pandas as pd\n",
    "import openpyxl\n",
    "import numpy as np"
   ]
  },
  {
   "cell_type": "code",
   "execution_count": 2,
   "metadata": {},
   "outputs": [],
   "source": [
    "data_nama = []\n",
    "data_bintang = []\n",
    "data_daerah = []\n",
    "data_rating = []\n",
    "data_harga_awal = []\n",
    "data_harga_diskon = []"
   ]
  },
  {
   "cell_type": "code",
   "execution_count": 3,
   "metadata": {},
   "outputs": [],
   "source": [
    "def ambil_data():\n",
    "    sleep(3)\n",
    "    content = driver.find_element_by_id(\"desktopContentV3\")\n",
    "    sleep(5)\n",
    "    semua_hotel = content.find_element_by_class_name(\"_2qd8A\")\n",
    "    keterangan = semua_hotel.find_elements_by_class_name(\"_1lxaf\")\n",
    "\n",
    "    for ket_i in (keterangan):\n",
    "\n",
    "        #Ambil nama\n",
    "        nama = ket_i.find_element_by_class_name(\"_2Es0e\").text\n",
    "        data_nama.append(nama)\n",
    "\n",
    "        #Ambil bintang\n",
    "        try:\n",
    "            class_bintang = ket_i.find_element_by_class_name(\"_1KMP3\")\n",
    "            bintang = class_bintang.find_element_by_tag_name(\"meta\").get_attribute(\"content\")\n",
    "        except:\n",
    "            bintang = 0\n",
    "            pass\n",
    "        data_bintang.append(bintang)\n",
    "\n",
    "        #Ambil daerah\n",
    "        class_daerah = ket_i.find_element_by_class_name(\"_3tICV\")\n",
    "        daerah = class_daerah.find_element_by_tag_name(\"span\").text\n",
    "        data_daerah.append(daerah)\n",
    "\n",
    "        #Ambil rating\n",
    "        try:\n",
    "            class_rating = ket_i.find_element_by_class_name(\"_16hDy\")\n",
    "            rating = class_rating.find_element_by_class_name(\"tvat-ratingScore\").text\n",
    "        except:\n",
    "            rating = 0\n",
    "            pass\n",
    "        data_rating.append(rating)\n",
    "\n",
    "    #Ambil harga\n",
    "    harga = semua_hotel.find_elements_by_class_name(\"_3gB8m\")\n",
    "    for harga_i in (harga):\n",
    "        harga_awal = harga_i.find_element_by_class_name(\"LR9Hv\").text.replace(\"Rp\",\"\").replace(\".\",\"\")\n",
    "        harga_diskon = harga_i.find_element_by_class_name(\"_22n9I\").text.replace(\"Rp\",\"\").replace(\".\",\"\")\n",
    "        data_harga_awal.append(harga_awal)\n",
    "        data_harga_diskon.append(harga_diskon)"
   ]
  },
  {
   "cell_type": "code",
   "execution_count": 4,
   "metadata": {},
   "outputs": [],
   "source": [
    "#Buka Traveloka\n",
    "link = \"https://www.traveloka.com/en-id/hotel/search?spec=21-11-2021.22-11-2021.1.1.HOTEL_GEO.107409.Yogyakarta%20Province.2\"\n",
    "path = \"C:\\Program Files (x86)\\chromedriver2.exe\"\n",
    "driver = webdriver.Chrome(path)\n",
    "driver.get(link)\n",
    "for i in range(30):\n",
    "    ambil_data()\n",
    "    sleep(3)\n",
    "    next_button = driver.find_element_by_id(\"next-button\")\n",
    "    next_button.click()\n",
    "        \n",
    "#data = np.c_[data_nama, data_bintang, data_daerah, data_rating, data_harga_awal, data_harga_diskon]"
   ]
  },
  {
   "cell_type": "code",
   "execution_count": 5,
   "metadata": {},
   "outputs": [
    {
     "name": "stdout",
     "output_type": "stream",
     "text": [
      "                                                   Nama Bintang  \\\n",
      "0                           INNSIDE by Melia Yogyakarta       4   \n",
      "1                              Hotel Tentrem Yogyakarta       5   \n",
      "2                             Melia Purosani Yogyakarta       5   \n",
      "3                              Hyatt Regency Yogyakarta       5   \n",
      "4                         Griya Sentana Malioboro Hotel       1   \n",
      "...                                                 ...     ...   \n",
      "1270                   Omah Sambilegi By The Grand Java       0   \n",
      "1271   Homestay Jogja dekat UNY Samirono by Simply Homy       0   \n",
      "1272  2 Bedroom Cottage B in Pantai Kukup at Winahyu...       1   \n",
      "1273                             Clean Room at RuMA Kos       0   \n",
      "1274            Studio Room at Malioboro City Apartment       0   \n",
      "\n",
      "                                     Daerah Rating Harga Awal Harga Diskon  \n",
      "0                Depok, Yogyakarta Province    8.6     880000       616000  \n",
      "1                Jetis, Yogyakarta Province    9.0    2420000      1815000  \n",
      "2     Malioboro Street, Yogyakarta Province    8.7    1340000       938000  \n",
      "3              Ngaglik, Yogyakarta Province    8.9    1196500      1017025  \n",
      "4                Jetis, Yogyakarta Province    8.7     513333       385000  \n",
      "...                                     ...    ...        ...          ...  \n",
      "1270             Depok, Yogyakarta Province      0    2132000      1599000  \n",
      "1271           Gejayan, Yogyakarta Province    7.8    2300000      1265000  \n",
      "1272       Tanjungsari, Yogyakarta Province    8.4     813333       610000  \n",
      "1273           Kalasan, Yogyakarta Province    8.3     300000       225000  \n",
      "1274             Depok, Yogyakarta Province    7.9    1333333      1000000  \n",
      "\n",
      "[1275 rows x 6 columns]\n"
     ]
    }
   ],
   "source": [
    "data = np.c_[data_nama, data_bintang, data_daerah, data_rating, data_harga_awal, data_harga_diskon]\n",
    "df_data = pd.DataFrame(data, columns = [\"Nama\", \"Bintang\", \"Daerah\", \"Rating\", \"Harga Awal\", \"Harga Diskon\"])\n",
    "print(df_data)\n",
    "df_data.to_excel(r\"C:\\Users\\Acer\\Downloads\\Yogyakarta_H+1.xlsx\")"
   ]
  },
  {
   "cell_type": "code",
   "execution_count": 6,
   "metadata": {},
   "outputs": [
    {
     "name": "stdout",
     "output_type": "stream",
     "text": [
      "29\n"
     ]
    }
   ],
   "source": [
    "print(i)"
   ]
  }
 ],
 "metadata": {
  "kernelspec": {
   "display_name": "Python 3 (ipykernel)",
   "language": "python",
   "name": "python3"
  },
  "language_info": {
   "codemirror_mode": {
    "name": "ipython",
    "version": 3
   },
   "file_extension": ".py",
   "mimetype": "text/x-python",
   "name": "python",
   "nbconvert_exporter": "python",
   "pygments_lexer": "ipython3",
   "version": "3.9.12"
  }
 },
 "nbformat": 4,
 "nbformat_minor": 4
}
