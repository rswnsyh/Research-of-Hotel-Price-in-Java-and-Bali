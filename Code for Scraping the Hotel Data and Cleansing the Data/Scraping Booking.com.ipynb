{
 "cells": [
  {
   "cell_type": "code",
   "execution_count": 1,
   "metadata": {},
   "outputs": [],
   "source": [
    "from selenium import webdriver\n",
    "from time import sleep\n",
    "import pandas as pd\n",
    "import openpyxl\n",
    "import numpy as np"
   ]
  },
  {
   "cell_type": "code",
   "execution_count": 2,
   "metadata": {},
   "outputs": [],
   "source": [
    "data_nama = []\n",
    "data_bintang = []\n",
    "data_daerah = []\n",
    "data_rating = []\n",
    "data_harga_awal = []\n",
    "data_harga_diskon = []"
   ]
  },
  {
   "cell_type": "code",
   "execution_count": 3,
   "metadata": {},
   "outputs": [],
   "source": [
    "def ambil_data():\n",
    "    sleep(3)   \n",
    "    content = driver.find_element_by_id(\"bodyconstraint\")\n",
    "    sleep(3)\n",
    "    semua_hotel = content.find_element_by_class_name(\"hotellist\")\n",
    "    keterangan = semua_hotel.find_elements_by_class_name(\"sr_item_content\")\n",
    "\n",
    "    for ket_i in (keterangan):\n",
    "\n",
    "        #Ambil nama\n",
    "        nama = ket_i.find_element_by_class_name(\"sr-hotel__name\").text\n",
    "        data_nama.append(nama)\n",
    "\n",
    "        #Ambil bintang\n",
    "        try:\n",
    "            class_bintang = ket_i.find_element_by_class_name(\"bui-rating\").get_attribute(\"aria-label\")[0]\n",
    "            bintang = (class_bintang)\n",
    "        except:\n",
    "            bintang = 0\n",
    "            pass\n",
    "        data_bintang.append(bintang)\n",
    "\n",
    "        #Ambil daerah\n",
    "        daerah = ket_i.find_element_by_class_name(\"bui-link\").text.replace(\"Show on map\", \"\")\n",
    "        data_daerah.append(daerah)\n",
    "\n",
    "        #Ambil rating\n",
    "        try:\n",
    "            rating = ket_i.find_element_by_class_name(\"bui-review-score__badge\").text\n",
    "        except:\n",
    "            rating = 0\n",
    "            pass\n",
    "        data_rating.append(rating)\n",
    "\n",
    "        #Ambil harga\n",
    "        try:\n",
    "            harga_orange = ket_i.find_element_by_class_name(\"tpi_price_label\").text.replace(\"Rp\",\"\").replace(\",\",\"\").replace(\" \",\"\")\n",
    "            harga_diskon = harga_orange\n",
    "            harga_awal = 0\n",
    "        except:\n",
    "            try :\n",
    "                harga_awal = ket_i.find_element_by_class_name(\"bui-f-color-destructive\").text.replace(\"Rp\",\"\").replace(\",\",\"\").replace(\" \",\"\")\n",
    "            except:\n",
    "                harga_awal = 0        \n",
    "            try :\n",
    "                harga_diskon = ket_i.find_element_by_class_name(\"prco-valign-middle-helper\").text.replace(\"Rp\",\"\").replace(\",\",\"\").replace(\" \",\"\")\n",
    "            except:\n",
    "                harga_diskon = 0\n",
    "        data_harga_awal.append(harga_awal)\n",
    "        data_harga_diskon.append(harga_diskon)\n",
    "        "
   ]
  },
  {
   "cell_type": "code",
   "execution_count": 4,
   "metadata": {},
   "outputs": [],
   "source": [
    "#Buka Booking.com\n",
    "link = \"\"\n",
    "path = \"C:\\Program Files (x86)\\chromedriver.exe\"\n",
    "driver = webdriver.Chrome(path)\n",
    "driver.get(link)\n",
    "for i in range(10):\n",
    "    ambil_data()\n",
    "    sleep(1)\n",
    "    tes = driver.find_element_by_id(\"basiclayout\")\n",
    "    sleep(3)\n",
    "    pagination = tes.find_element_by_class_name(\"bui-pagination__nav\")\n",
    "    sleep(2)\n",
    "    next_button = pagination.find_elements_by_class_name(\"bk-icon\")\n",
    "    sleep(2)\n",
    "    next_button[1].click()\n",
    "\n",
    "data = np.c_[data_nama, data_bintang, data_daerah, data_rating, data_harga_awal, data_harga_diskon]"
   ]
  },
  {
   "cell_type": "code",
   "execution_count": 5,
   "metadata": {},
   "outputs": [
    {
     "name": "stdout",
     "output_type": "stream",
     "text": [
      "                                                  Nama Bintang  \\\n",
      "0                                    Janevalla Bandung       4   \n",
      "1                                     Vue Palace Hotel       3   \n",
      "2               Best Western Premier La Grande Bandung       4   \n",
      "3                          Zest Hotel Sukajadi Bandung       3   \n",
      "4                        Grand Tjokro Premiere Bandung       4   \n",
      "..                                                 ...     ...   \n",
      "245                  RedDoorz Near Trans Studio Mall 3       2   \n",
      "246  RedDoorz Apartment @ Tamansari Panoramic Soeka...       2   \n",
      "247                                     Vio Cihampelas       2   \n",
      "248                OYO 90415 Havana Orange Guest House       2   \n",
      "249            Collection O 991 D'batoe Boutique Hotel       3   \n",
      "\n",
      "                      Daerah Rating Harga Awal Harga Diskon  \n",
      "0    Bandung Wetan, Bandung     8.6    1230769       732307  \n",
      "1     Sumurbandung, Bandung     8.0          0       366790  \n",
      "2     Sumurbandung, Bandung     8.3     550001       522501  \n",
      "3         Sukajadi, Bandung     8.2          0       308661  \n",
      "4       Cihampelas, Bandung     8.0          0      1026667  \n",
      "..                       ...    ...        ...          ...  \n",
      "245       Lengkong, Bandung     6.6     148500       112860  \n",
      "246      Arcamanik, Bandung     7.7     228428       173605  \n",
      "247     Cihampelas, Bandung     7.2          0       207000  \n",
      "248       Buahbatu, Bandung     7.7     143590       107693  \n",
      "249    Pasirkaliki, Bandung     7.1          0       245465  \n",
      "\n",
      "[250 rows x 6 columns]\n"
     ]
    }
   ],
   "source": [
    "df_data = pd.DataFrame(data, columns = [\"Nama\", \"Bintang\", \"Daerah\", \"Rating\", \"Harga Awal\", \"Harga Diskon\"])\n",
    "print(df_data)\n",
    "df_data.to_excel(r\"C:\\Users\\Acer\\Downloads\\df_bookingcom.xlsx\")"
   ]
  }
 ],
 "metadata": {
  "kernelspec": {
   "display_name": "Python 3 (ipykernel)",
   "language": "python",
   "name": "python3"
  },
  "language_info": {
   "codemirror_mode": {
    "name": "ipython",
    "version": 3
   },
   "file_extension": ".py",
   "mimetype": "text/x-python",
   "name": "python",
   "nbconvert_exporter": "python",
   "pygments_lexer": "ipython3",
   "version": "3.9.12"
  }
 },
 "nbformat": 4,
 "nbformat_minor": 4
}
