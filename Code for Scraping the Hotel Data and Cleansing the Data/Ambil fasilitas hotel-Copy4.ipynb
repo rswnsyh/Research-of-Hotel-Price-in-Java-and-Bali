{
 "cells": [
  {
   "cell_type": "code",
   "execution_count": 1,
   "metadata": {},
   "outputs": [],
   "source": [
    "from selenium import webdriver\n",
    "from time import sleep\n",
    "import pandas as pd\n",
    "import openpyxl\n",
    "import numpy as np\n",
    "import random as rand"
   ]
  },
  {
   "cell_type": "code",
   "execution_count": 2,
   "metadata": {},
   "outputs": [],
   "source": [
    "#Import data\n",
    "df1 = pd.read_excel(r'C:\\Users\\Acer\\OneDrive - Institut Teknologi Bandung\\Magang BI\\Data\\Web Scraping Hotel\\data fix\\data_fix_Yogyakarta.xlsx', sheet_name=\"Sheet1\",engine = \"openpyxl\")\n",
    "data1 = np.array(df1)"
   ]
  },
  {
   "cell_type": "code",
   "execution_count": 3,
   "metadata": {},
   "outputs": [],
   "source": [
    "#Buka Traveloka\n",
    "link = \"https://www.traveloka.com/en-id/hotel/search?spec=22-11-2021.23-11-2021.1.1.HOTEL_GEO.107409.Yogyakarta%20Province.2\"\n",
    "path = \"C:\\Program Files (x86)\\chromedriver.exe\"\n",
    "driver = webdriver.Chrome(path)\n",
    "driver.get(link)\n",
    "\n",
    "for i in range(1345,len(data1[:,1])):\n",
    "    waktu = rand.randrange(5,7)\n",
    "    #Masukkan dan cari nama hotel\n",
    "    sleep(waktu)\n",
    "    search_button = driver.find_element_by_class_name(\"_1VnvT\")\n",
    "    input_hotel = search_button.find_element_by_xpath(\"/html/body/div[1]/div[2]/div/div[2]/div[2]/div[3]/div[2]/div[2]/div/div[2]/div/div[3]/div/div[1]/label/div/div/div[2]/div/input\")\n",
    "    input_hotel.send_keys(data1[i,1])\n",
    "    hasil = driver.find_element_by_xpath(\"/html/body/div[1]/div[2]/div/div[2]/div[2]/div[3]/div[2]/div[2]/div/div[2]/div/div[3]/div/div[2]/div/div/div[2]/div\")\n",
    "    hasil.click()\n",
    "    sleep(waktu)\n",
    "    hotel = driver.find_element_by_xpath(\"/html/body/div[1]/div[2]/div/div[2]/div[2]/div[3]/div[2]/div[3]/div[1]/div\")\n",
    "    hotel.click()\n",
    "\n",
    "    #Ambil data hotel\n",
    "    try:\n",
    "        sleep(waktu)\n",
    "        driver.switch_to.window(driver.window_handles[1])\n",
    "        tipe = driver.find_element_by_class_name(\"_1kzbT\")\n",
    "        alamat = driver.find_element_by_class_name(\"_1I8E_\")\n",
    "        fasilitas = driver.find_elements_by_class_name(\"ImD1q\") \n",
    "\n",
    "        data1[i,4] = tipe.text\n",
    "        data1[i,3] = alamat.text\n",
    "        data1[i,71] = \"\"\n",
    "        for j in range (len(fasilitas)):\n",
    "            data1[i,71] = str(data1[i,71]) + fasilitas[j].text + \",\"\n",
    "\n",
    "        #tutup tab\n",
    "        driver.close()\n",
    "        driver.switch_to.window(driver.window_handles[0]) \n",
    "    except:\n",
    "        continue"
   ]
  },
  {
   "cell_type": "code",
   "execution_count": 4,
   "metadata": {
    "scrolled": true
   },
   "outputs": [
    {
     "name": "stdout",
     "output_type": "stream",
     "text": [
      "       0                                      1   \\\n",
      "0     NaN                                    NaN   \n",
      "1     NaN                                    NaN   \n",
      "2     NaN                 @HOM Platinum Gowongan   \n",
      "3     NaN                   @HOM Premiere Timoho   \n",
      "4     NaN          @K Hotel Kaliurang Yogyakarta   \n",
      "...   ...                                    ...   \n",
      "1395  NaN                            Yobel Hotel   \n",
      "1396  NaN              Yogyakarta Marriott Hotel   \n",
      "1397  NaN  Zaitun Syariah Guest House Yogyakarta   \n",
      "1398  NaN                                ZE Spot   \n",
      "1399  NaN                  Zest Hotel Yogyakarta   \n",
      "\n",
      "                                   2   \\\n",
      "0                                 NaN   \n",
      "1                                 NaN   \n",
      "2          Jetis, Yogyakarta Province   \n",
      "3     Umbulharjo, Yogyakarta Province   \n",
      "4      Kaliurang, Yogyakarta Province   \n",
      "...                               ...   \n",
      "1395       Jetis, Yogyakarta Province   \n",
      "1396       Depok, Yogyakarta Province   \n",
      "1397     Gamping, Yogyakarta Province   \n",
      "1398       Depok, Yogyakarta Province   \n",
      "1399  Pakualaman, Yogyakarta Province   \n",
      "\n",
      "                                                     3             4    5   \\\n",
      "0                                                   NaN           NaN  NaN   \n",
      "1                                                   NaN           NaN  NaN   \n",
      "2     Jl. Pantai Sel. Jawa, Tepus, Kabupaten Gunung ...     HOMESTAYS    3   \n",
      "3     Jalan Ipda Tut Harsono No.24, Muja Muju, Umbul...        HOTELS    3   \n",
      "4     Jalan Tlogo Putri, Kaliurang, Sleman, Yogyakar...        HOTELS    4   \n",
      "...                                                 ...           ...  ...   \n",
      "1395  Jalan Pakuningratan No. 24, Jetis, Yogyakarta,...        HOTELS    1   \n",
      "1396  Jl. Ring Road Utara, Condong Catur, Depok, Yog...        HOTELS    5   \n",
      "1397  Jalan Tata Bumi Selatan No. 111E, Komplek Mesj...  GUEST HOUSES    0   \n",
      "1398  Jl. Nangka II No. 6 ,Karangnongko, Maguwoharjo...        HOTELS    0   \n",
      "1399  Jalan Gajah Mada No. 28, Pakualaman, Yogyakart...        HOTELS    2   \n",
      "\n",
      "               6            7            8            9   ...    63    64  \\\n",
      "0            1019          NaN         1020          NaN  ...  1024  1025   \n",
      "1            1020         1027         1021         1028  ...   NaN   NaN   \n",
      "2          557753       557753       569496       569496  ...     0     0   \n",
      "3          713333       486372       434447       810000  ...   8.6   8.6   \n",
      "4          672000       805813       699999       666668  ...   8.4   8.4   \n",
      "...           ...          ...          ...          ...  ...   ...   ...   \n",
      "1395       267738       267738       267738       267738  ...   8.8   8.8   \n",
      "1396  2.30937e+06  2.01868e+06  2.19633e+06  2.08328e+06  ...     9     9   \n",
      "1397       466667          NaN          NaN          NaN  ...     0     0   \n",
      "1398       266665       266665       266665       266665  ...     0     0   \n",
      "1399       313333       313333       313333       313333  ...   8.4   8.4   \n",
      "\n",
      "        65    66    67    68    69    70  \\\n",
      "0     1026  1027  1028  1029  1030  1031   \n",
      "1      NaN   NaN   NaN   NaN   NaN   NaN   \n",
      "2        0     0   NaN   NaN     0     0   \n",
      "3      8.6   8.6   8.6   NaN   8.6   8.6   \n",
      "4      8.4   8.4   8.4   8.4   8.4   8.4   \n",
      "...    ...   ...   ...   ...   ...   ...   \n",
      "1395   8.8   8.8   8.8   8.8   8.8   8.8   \n",
      "1396     9     9     9     9     9     9   \n",
      "1397     0     0     0     0     0     0   \n",
      "1398     0     0     0     0     0     0   \n",
      "1399   8.4   8.4   8.4   8.4   8.4   8.4   \n",
      "\n",
      "                                                     71   72  \n",
      "0                                                   NaN  NaN  \n",
      "1                                                   NaN  NaN  \n",
      "2                Restaurant,24-Hour Front Desk,Parking,  NaN  \n",
      "3     AC,Restaurant,Swimming Pool,24-Hour Front Desk...  NaN  \n",
      "4     AC,Restaurant,Swimming Pool,24-Hour Front Desk...  NaN  \n",
      "...                                                 ...  ...  \n",
      "1395                                   AC,Parking,WiFi,  NaN  \n",
      "1396  AC,Restaurant,Swimming Pool,24-Hour Front Desk...  NaN  \n",
      "1397                                   AC,Parking,WiFi,  NaN  \n",
      "1398                AC,24-Hour Front Desk,Parking,WiFi,  NaN  \n",
      "1399  AC,Restaurant,Swimming Pool,24-Hour Front Desk...  NaN  \n",
      "\n",
      "[1400 rows x 73 columns]\n"
     ]
    }
   ],
   "source": [
    "df_data = pd.DataFrame(data1)\n",
    "print(df_data)\n",
    "df_data.to_excel(r\"C:\\Users\\Acer\\Downloads\\data_Yogyakarta_lengkap.xlsx\")"
   ]
  },
  {
   "cell_type": "code",
   "execution_count": 5,
   "metadata": {},
   "outputs": [
    {
     "name": "stdout",
     "output_type": "stream",
     "text": [
      "1399\n"
     ]
    }
   ],
   "source": [
    "print(i)"
   ]
  }
 ],
 "metadata": {
  "kernelspec": {
   "display_name": "Python 3 (ipykernel)",
   "language": "python",
   "name": "python3"
  },
  "language_info": {
   "codemirror_mode": {
    "name": "ipython",
    "version": 3
   },
   "file_extension": ".py",
   "mimetype": "text/x-python",
   "name": "python",
   "nbconvert_exporter": "python",
   "pygments_lexer": "ipython3",
   "version": "3.9.12"
  }
 },
 "nbformat": 4,
 "nbformat_minor": 4
}
