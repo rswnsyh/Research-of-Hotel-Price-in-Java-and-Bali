{
 "cells": [
  {
   "cell_type": "code",
   "execution_count": 1,
   "metadata": {},
   "outputs": [],
   "source": [
    "from selenium import webdriver\n",
    "from time import sleep\n",
    "import pandas as pd\n",
    "import openpyxl\n",
    "import numpy as np"
   ]
  },
  {
   "cell_type": "code",
   "execution_count": 2,
   "metadata": {},
   "outputs": [],
   "source": [
    "data_nama = []\n",
    "data_bintang = []\n",
    "data_daerah = []\n",
    "data_rating = []\n",
    "data_harga_awal = []\n",
    "data_harga_diskon = []"
   ]
  },
  {
   "cell_type": "code",
   "execution_count": 3,
   "metadata": {},
   "outputs": [],
   "source": [
    "def ambil_data():\n",
    "    sleep(3)\n",
    "    content = driver.find_element_by_id(\"desktopContentV3\")\n",
    "    sleep(5)\n",
    "    semua_hotel = content.find_element_by_class_name(\"_2qd8A\")\n",
    "    keterangan = semua_hotel.find_elements_by_class_name(\"_1lxaf\")\n",
    "\n",
    "    for ket_i in (keterangan):\n",
    "\n",
    "        #Ambil nama\n",
    "        nama = ket_i.find_element_by_class_name(\"_2Es0e\").text\n",
    "        data_nama.append(nama)\n",
    "\n",
    "        #Ambil bintang\n",
    "        try:\n",
    "            class_bintang = ket_i.find_element_by_class_name(\"_1KMP3\")\n",
    "            bintang = class_bintang.find_element_by_tag_name(\"meta\").get_attribute(\"content\")\n",
    "        except:\n",
    "            bintang = 0\n",
    "            pass\n",
    "        data_bintang.append(bintang)\n",
    "\n",
    "        #Ambil daerah\n",
    "        class_daerah = ket_i.find_element_by_class_name(\"_3tICV\")\n",
    "        daerah = class_daerah.find_element_by_tag_name(\"span\").text\n",
    "        data_daerah.append(daerah)\n",
    "\n",
    "        #Ambil rating\n",
    "        try:\n",
    "            class_rating = ket_i.find_element_by_class_name(\"_16hDy\")\n",
    "            rating = class_rating.find_element_by_class_name(\"tvat-ratingScore\").text\n",
    "        except:\n",
    "            rating = 0\n",
    "            pass\n",
    "        data_rating.append(rating)\n",
    "\n",
    "    #Ambil harga\n",
    "    harga = semua_hotel.find_elements_by_class_name(\"_3gB8m\")\n",
    "    for harga_i in (harga):\n",
    "        harga_awal = harga_i.find_element_by_class_name(\"LR9Hv\").text.replace(\"Rp\",\"\").replace(\".\",\"\")\n",
    "        harga_diskon = harga_i.find_element_by_class_name(\"_22n9I\").text.replace(\"Rp\",\"\").replace(\".\",\"\")\n",
    "        data_harga_awal.append(harga_awal)\n",
    "        data_harga_diskon.append(harga_diskon)"
   ]
  },
  {
   "cell_type": "code",
   "execution_count": 4,
   "metadata": {},
   "outputs": [],
   "source": [
    "#Buka Traveloka\n",
    "link = \"https://www.traveloka.com/en-id/hotel/search?spec=28-11-2021.29-11-2021.1.1.HOTEL_GEO.102746.Bali.2\"\n",
    "path = \"C:\\Program Files (x86)\\chromedriver2.exe\"\n",
    "driver = webdriver.Chrome(path)\n",
    "driver.get(link)\n",
    "for i in range(70):\n",
    "    ambil_data()\n",
    "    sleep(3)\n",
    "    next_button = driver.find_element_by_id(\"next-button\")\n",
    "    next_button.click()\n",
    "\n",
    "#data = np.c_[data_nama, data_bintang, data_daerah, data_rating, data_harga_awal, data_harga_diskon]"
   ]
  },
  {
   "cell_type": "code",
   "execution_count": 5,
   "metadata": {},
   "outputs": [
    {
     "name": "stdout",
     "output_type": "stream",
     "text": [
      "                                        Nama Bintang                Daerah  \\\n",
      "0                  The Apurva Kempinski Bali       5  Nusa Dua Beach, Bali   \n",
      "1                            Grand Inna Kuta       4            Kuta, Bali   \n",
      "2                         Hilton Bali Resort       5  Nusa Dua Beach, Bali   \n",
      "3                          Atanaya Kuta Bali       4            Kuta, Bali   \n",
      "4                             The Pari Sudha       4            Ubud, Bali   \n",
      "...                                      ...     ...                   ...   \n",
      "3022                   Bukit Luah Guesthouse       1         Sidemen, Bali   \n",
      "3023  Pondok Bali 2 Guest House and Homestay       0       Kerobokan, Bali   \n",
      "3024                Vista Penginapan Tabanan       1    Tabanan Kota, Bali   \n",
      "3025                         Jassri Homestay       3       Pemuteran, Bali   \n",
      "3026                 Ajuna Suite Villas Ubud       4     Tegallalang, Bali   \n",
      "\n",
      "     Rating Harga Awal Harga Diskon  \n",
      "0       8.9    6365245      4773934  \n",
      "1       8.5    1948100       564949  \n",
      "2       8.8    1089000       980100  \n",
      "3       8.6    1089000       348480  \n",
      "4       8.8     427259       299081  \n",
      "...     ...        ...          ...  \n",
      "3022      0     400000       300000  \n",
      "3023    9.0     400000       300000  \n",
      "3024    7.5     400000       300000  \n",
      "3025    7.9     399999       299999  \n",
      "3026      0    3400000      2550000  \n",
      "\n",
      "[3027 rows x 6 columns]\n"
     ]
    }
   ],
   "source": [
    "data = np.c_[data_nama, data_bintang, data_daerah, data_rating, data_harga_awal, data_harga_diskon]\n",
    "df_data = pd.DataFrame(data, columns = [\"Nama\", \"Bintang\", \"Daerah\", \"Rating\", \"Harga Awal\", \"Harga Diskon\"])\n",
    "print(df_data)\n",
    "df_data.to_excel(r\"C:\\Users\\Acer\\Downloads\\Bali_H+7.xlsx\")"
   ]
  },
  {
   "cell_type": "code",
   "execution_count": 6,
   "metadata": {},
   "outputs": [
    {
     "name": "stdout",
     "output_type": "stream",
     "text": [
      "69\n"
     ]
    }
   ],
   "source": [
    "print(i)"
   ]
  }
 ],
 "metadata": {
  "kernelspec": {
   "display_name": "Python 3 (ipykernel)",
   "language": "python",
   "name": "python3"
  },
  "language_info": {
   "codemirror_mode": {
    "name": "ipython",
    "version": 3
   },
   "file_extension": ".py",
   "mimetype": "text/x-python",
   "name": "python",
   "nbconvert_exporter": "python",
   "pygments_lexer": "ipython3",
   "version": "3.9.12"
  }
 },
 "nbformat": 4,
 "nbformat_minor": 4
}
