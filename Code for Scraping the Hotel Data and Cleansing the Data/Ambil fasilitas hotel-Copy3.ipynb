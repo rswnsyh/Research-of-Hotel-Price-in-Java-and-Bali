{
 "cells": [
  {
   "cell_type": "code",
   "execution_count": 1,
   "metadata": {},
   "outputs": [],
   "source": [
    "from selenium import webdriver\n",
    "from time import sleep\n",
    "import pandas as pd\n",
    "import openpyxl\n",
    "import numpy as np\n",
    "import random as rand"
   ]
  },
  {
   "cell_type": "code",
   "execution_count": 2,
   "metadata": {},
   "outputs": [],
   "source": [
    "#Import data\n",
    "df1 = pd.read_excel(r'C:\\Users\\Acer\\OneDrive - Institut Teknologi Bandung\\Magang BI\\Data\\Web Scraping Hotel\\data fix\\data_fix_JawaTimur.xlsx', sheet_name=\"Sheet1\",engine = \"openpyxl\")\n",
    "data1 = np.array(df1)"
   ]
  },
  {
   "cell_type": "code",
   "execution_count": 3,
   "metadata": {},
   "outputs": [],
   "source": [
    "#Buka Traveloka\n",
    "link = \"https://www.traveloka.com/en-id/hotel/search?spec=22-11-2021.23-11-2021.1.1.HOTEL_GEO.103130.East%20Java.2\"\n",
    "path = \"C:\\Program Files (x86)\\chromedriver.exe\"\n",
    "driver = webdriver.Chrome(path)\n",
    "driver.get(link)\n",
    "\n",
    "for i in range(2061,len(data1[:,1])):\n",
    "    waktu = rand.randrange(5,7)\n",
    "    #Masukkan dan cari nama hotel\n",
    "    sleep(waktu)\n",
    "    search_button = driver.find_element_by_class_name(\"_1VnvT\")\n",
    "    input_hotel = search_button.find_element_by_xpath(\"/html/body/div[1]/div[2]/div/div[2]/div[2]/div[3]/div[2]/div[2]/div/div[2]/div/div[3]/div/div[1]/label/div/div/div[2]/div/input\")\n",
    "    input_hotel.send_keys(data1[i,1])\n",
    "    hasil = driver.find_element_by_xpath(\"/html/body/div[1]/div[2]/div/div[2]/div[2]/div[3]/div[2]/div[2]/div/div[2]/div/div[3]/div/div[2]/div/div/div[2]/div\")\n",
    "    hasil.click()\n",
    "    sleep(waktu)\n",
    "    hotel = driver.find_element_by_xpath(\"/html/body/div[1]/div[2]/div/div[2]/div[2]/div[3]/div[2]/div[3]/div[1]/div\")\n",
    "    hotel.click()\n",
    "\n",
    "    #Ambil data hotel\n",
    "    try:\n",
    "        sleep(waktu)\n",
    "        driver.switch_to.window(driver.window_handles[1])\n",
    "        tipe = driver.find_element_by_class_name(\"_1kzbT\")\n",
    "        alamat = driver.find_element_by_class_name(\"_1I8E_\")\n",
    "        fasilitas = driver.find_elements_by_class_name(\"ImD1q\") \n",
    "\n",
    "        data1[i,4] = tipe.text\n",
    "        data1[i,3] = alamat.text\n",
    "        data1[i,71] = \"\"\n",
    "        for j in range (len(fasilitas)):\n",
    "            data1[i,71] = str(data1[i,71]) + fasilitas[j].text + \",\"\n",
    "\n",
    "        #tutup tab\n",
    "        driver.close()\n",
    "        driver.switch_to.window(driver.window_handles[0]) \n",
    "    except:\n",
    "        continue"
   ]
  },
  {
   "cell_type": "code",
   "execution_count": 4,
   "metadata": {
    "scrolled": true
   },
   "outputs": [
    {
     "name": "stdout",
     "output_type": "stream",
     "text": [
      "       0                                                  1   \\\n",
      "0     NaN                                                NaN   \n",
      "1     NaN                                                NaN   \n",
      "2     NaN                                             @thome   \n",
      "3     NaN  1BR Premium Apartment at Grand Sungkono Lagoon...   \n",
      "4     NaN                      2 Bedroom at Griya Sidomakmur   \n",
      "...   ...                                                ...   \n",
      "2210  NaN                             Yustin Family Homestay   \n",
      "2211  NaN                              Zamzam Hotel & Resort   \n",
      "2212  NaN                               Zest Hotel Jemursari   \n",
      "2213  NaN                            ZOOM Dharmahusada Hotel   \n",
      "2214  NaN                               ZOOM Hotel Jemursari   \n",
      "\n",
      "                               2   \\\n",
      "0                             NaN   \n",
      "1                             NaN   \n",
      "2                Ampel, East Java   \n",
      "3        Sukomanunggal, East Java   \n",
      "4                  Dau, East Java   \n",
      "...                           ...   \n",
      "2210           Tumpang, East Java   \n",
      "2211              Batu, East Java   \n",
      "2212  Tenggilis Mejoyo, East Java   \n",
      "2213            Gubeng, East Java   \n",
      "2214          Wonocolo, East Java   \n",
      "\n",
      "                                                     3             4    5   \\\n",
      "0                                                   NaN           NaN  NaN   \n",
      "1                                                   NaN           NaN  NaN   \n",
      "2     Jalan Gembong No.36 M (Pertokoan Atoom Megah),...  GUEST HOUSES    1   \n",
      "3     Grand Sungkono Lagoon, Jalan KH Abdul Wahab Si...    APARTMENTS    0   \n",
      "4     Jalan sidomakmur no 7, dau sengkaling. Batu Ma...        VILLAS    0   \n",
      "...                                                 ...           ...  ...   \n",
      "2210  Jl. Raya Tulus Ayu, Kecamatan Tumpang, Tumpang...     HOMESTAYS    0   \n",
      "2211  Jln. Abdul Gani Atas No. 9, Batu, Malang, Jawa...        HOTELS    4   \n",
      "2212  Jalan Raya Prapen 266, Tenggilis Mejoyo, Surab...        HOTELS    2   \n",
      "2213  Jalan Dharmahusada .No.188, Gubeng, Surabaya, ...        HOTELS    3   \n",
      "2214  Raya Jemursari 109 B-C, Wonocolo, Surabaya, Ja...        HOTELS    3   \n",
      "\n",
      "          6       7            8            9   ...    63    64    65    66  \\\n",
      "0       1019     NaN         1020          NaN  ...  1024  1025  1026  1027   \n",
      "1       1020    1027         1021         1028  ...   NaN   NaN   NaN   NaN   \n",
      "2     110000  110000       110000       110000  ...   7.2   7.2   7.2   7.2   \n",
      "3        NaN     NaN          NaN          NaN  ...   NaN   NaN   NaN   NaN   \n",
      "4        NaN     NaN  3.21333e+06  3.21333e+06  ...     0     0     0     0   \n",
      "...      ...     ...          ...          ...  ...   ...   ...   ...   ...   \n",
      "2210  266667  266667       266667       266667  ...   8.7   8.7   8.7   8.7   \n",
      "2211  666667  666667       533333       533333  ...   8.4   8.4   8.4   8.4   \n",
      "2212  306665  306665       306665       306665  ...   8.4   8.4   8.4   8.4   \n",
      "2213  426667  426667       426667       426667  ...   8.5   8.5   8.5   8.5   \n",
      "2214  306665  335467       306665       306665  ...   8.2   8.2   8.2   8.2   \n",
      "\n",
      "        67    68    69    70  \\\n",
      "0     1028  1029  1030  1031   \n",
      "1      NaN   NaN   NaN   NaN   \n",
      "2      7.2   7.2   7.2   7.2   \n",
      "3      NaN   NaN   NaN     0   \n",
      "4        0     0     0     0   \n",
      "...    ...   ...   ...   ...   \n",
      "2210   8.7   8.7   8.7   8.7   \n",
      "2211   8.4   8.4   8.4   8.3   \n",
      "2212   8.4   8.4   8.4   8.4   \n",
      "2213   8.5   8.5   8.5   8.5   \n",
      "2214   8.2   8.2   8.2   8.2   \n",
      "\n",
      "                                                     71   72  \n",
      "0                                                   NaN  NaN  \n",
      "1                                                   NaN  NaN  \n",
      "2                   AC,24-Hour Front Desk,Parking,WiFi,  NaN  \n",
      "3         AC,Restaurant,Swimming Pool,Parking,Elevator,  NaN  \n",
      "4                   AC,24-Hour Front Desk,Parking,WiFi,  NaN  \n",
      "...                                                 ...  ...  \n",
      "2210                                           Parking,  NaN  \n",
      "2211  AC,Restaurant,Swimming Pool,24-Hour Front Desk...  NaN  \n",
      "2212               AC,Restaurant,Parking,Elevator,WiFi,  NaN  \n",
      "2213  AC,Restaurant,24-Hour Front Desk,Parking,Eleva...  NaN  \n",
      "2214  AC,Restaurant,24-Hour Front Desk,Parking,Eleva...  NaN  \n",
      "\n",
      "[2215 rows x 73 columns]\n"
     ]
    }
   ],
   "source": [
    "df_data = pd.DataFrame(data1)\n",
    "print(df_data)\n",
    "df_data.to_excel(r\"C:\\Users\\Acer\\Downloads\\data_JawaTImur_lengkap.xlsx\")"
   ]
  },
  {
   "cell_type": "code",
   "execution_count": 5,
   "metadata": {},
   "outputs": [
    {
     "name": "stdout",
     "output_type": "stream",
     "text": [
      "2214\n"
     ]
    }
   ],
   "source": [
    "print(i)"
   ]
  }
 ],
 "metadata": {
  "kernelspec": {
   "display_name": "Python 3 (ipykernel)",
   "language": "python",
   "name": "python3"
  },
  "language_info": {
   "codemirror_mode": {
    "name": "ipython",
    "version": 3
   },
   "file_extension": ".py",
   "mimetype": "text/x-python",
   "name": "python",
   "nbconvert_exporter": "python",
   "pygments_lexer": "ipython3",
   "version": "3.9.12"
  }
 },
 "nbformat": 4,
 "nbformat_minor": 4
}
