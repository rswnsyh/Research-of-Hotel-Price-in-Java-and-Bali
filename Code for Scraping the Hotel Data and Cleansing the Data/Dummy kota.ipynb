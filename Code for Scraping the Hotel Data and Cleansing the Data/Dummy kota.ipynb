{
 "cells": [
  {
   "cell_type": "code",
   "execution_count": 1,
   "metadata": {},
   "outputs": [],
   "source": [
    "import pandas as pd\n",
    "import numpy as np \n",
    "import openpyxl\n",
    "from pathlib import Path"
   ]
  },
  {
   "cell_type": "code",
   "execution_count": 2,
   "metadata": {},
   "outputs": [],
   "source": [
    "#Import data\n",
    "df = pd.read_excel(r'C:\\Users\\Acer\\OneDrive - Institut Teknologi Bandung\\Magang BI\\Data\\Web Scraping Hotel\\data panel\\H_7_Yogyakarta.xlsx', sheet_name=\"Sheet1\",engine = \"openpyxl\")\n",
    "data = np.array(df)\n",
    "kota = df.columns[22:]"
   ]
  },
  {
   "cell_type": "code",
   "execution_count": 3,
   "metadata": {},
   "outputs": [],
   "source": [
    "for i in range (len(data[:,0])):\n",
    "    for j in range (len(kota)):\n",
    "        if data[i,3] == kota[j]:\n",
    "            data[i,22+j]=1\n",
    "        else:\n",
    "            data[i,22+j]=0"
   ]
  },
  {
   "cell_type": "code",
   "execution_count": 4,
   "metadata": {},
   "outputs": [
    {
     "name": "stdout",
     "output_type": "stream",
     "text": [
      "                           0     1       2           3  4    5       6   \\\n",
      "0      Jogja Backpacker Rooms  1027   99000      sleman  0  8.2 -7.7475   \n",
      "1      Jogja Backpacker Rooms  1028   99000      sleman  0  8.2 -7.7475   \n",
      "2      Jogja Backpacker Rooms  1029   99000      sleman  0  8.2 -7.7475   \n",
      "3      Jogja Backpacker Rooms  1030   99000      sleman  0  8.2 -7.7475   \n",
      "4      Jogja Backpacker Rooms  1031   99000      sleman  0  8.2 -7.7475   \n",
      "...                       ...   ...     ...         ... ..  ...     ...   \n",
      "10219           Hotel Virgo 2  1124     NaN  yogyakarta  0  8.2 -7.7906   \n",
      "10220           Hotel Virgo 2  1125     NaN  yogyakarta  0  8.2 -7.7906   \n",
      "10221           Hotel Virgo 2  1126  150000  yogyakarta  0  8.2 -7.7906   \n",
      "10222           Hotel Virgo 2  1127  150000  yogyakarta  0  8.2 -7.7906   \n",
      "10223           Hotel Virgo 2  1128  150000  yogyakarta  0  8.2 -7.7906   \n",
      "\n",
      "            7            8            9   ... 17 18 19 20 21 22 23 24 25 26  \n",
      "0      110.421    0.0143625      76331.8  ...  1  1  0  1  0  1  0  0  0  0  \n",
      "1      110.421    0.0143625      85451.6  ...  1  1  0  1  0  1  0  0  0  0  \n",
      "2      110.421    0.0143625      87349.3  ...  1  1  0  1  0  1  0  0  0  0  \n",
      "3      110.421    0.0143625      89652.7  ...  1  1  0  1  0  1  0  0  0  0  \n",
      "4      110.421    0.0143625        88306  ...  1  1  0  1  0  1  0  0  0  0  \n",
      "...        ...          ...          ...  ... .. .. .. .. .. .. .. .. .. ..  \n",
      "10219  110.364  0.000873962       993229  ...  1  0  0  1  0  0  1  0  0  0  \n",
      "10220  110.364  0.000873962  1.03419e+06  ...  1  0  0  1  0  0  1  0  0  0  \n",
      "10221  110.364  0.000873962       503053  ...  1  0  0  1  0  0  1  0  0  0  \n",
      "10222  110.364  0.000873962       589375  ...  1  0  0  1  0  0  1  0  0  0  \n",
      "10223  110.364  0.000873962       297746  ...  1  0  0  1  0  0  1  0  0  0  \n",
      "\n",
      "[10224 rows x 27 columns]\n"
     ]
    }
   ],
   "source": [
    "df_data = pd.DataFrame(data)\n",
    "print(df_data)\n",
    "df_data.to_excel(r\"C:\\Users\\Acer\\Downloads\\data_daerah.xlsx\")"
   ]
  }
 ],
 "metadata": {
  "kernelspec": {
   "display_name": "Python 3 (ipykernel)",
   "language": "python",
   "name": "python3"
  },
  "language_info": {
   "codemirror_mode": {
    "name": "ipython",
    "version": 3
   },
   "file_extension": ".py",
   "mimetype": "text/x-python",
   "name": "python",
   "nbconvert_exporter": "python",
   "pygments_lexer": "ipython3",
   "version": "3.9.12"
  }
 },
 "nbformat": 4,
 "nbformat_minor": 4
}
