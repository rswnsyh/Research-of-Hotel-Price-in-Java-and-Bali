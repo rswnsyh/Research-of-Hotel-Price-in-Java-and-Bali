{
 "cells": [
  {
   "cell_type": "code",
   "execution_count": 1,
   "metadata": {},
   "outputs": [],
   "source": [
    "import pandas as pd\n",
    "import numpy as np \n",
    "import openpyxl\n",
    "import math\n",
    "from pathlib import Path"
   ]
  },
  {
   "cell_type": "code",
   "execution_count": 2,
   "metadata": {},
   "outputs": [],
   "source": [
    "#Import data\n",
    "df = pd.read_excel(r'C:\\Users\\Acer\\OneDrive - Institut Teknologi Bandung\\Magang BI\\Data\\Web Scraping Hotel\\data fix 2\\data_fix_Bali2.xlsx', sheet_name=\"Hotel_2\",engine = \"openpyxl\")\n",
    "data = np.array(df)\n",
    "#print(df)"
   ]
  },
  {
   "cell_type": "code",
   "execution_count": 3,
   "metadata": {},
   "outputs": [],
   "source": [
    "#Latitude : 56\n",
    "#Longitude : 57\n",
    "#LD : 58\n",
    "#PD H+1 : 59\n",
    "#PD H+7 : 60\n",
    "#avg H+1 : 61\n",
    "#avg H+7 : 62\n",
    "#avg rating : 63\n",
    "\n",
    "n = 10\n",
    "\n",
    "def jarak (la0,lo0,la1,lo1):\n",
    "    distance = math.sqrt(((la0-la1)**2)+((lo0-lo1)**2))\n",
    "    return distance\n",
    "\n",
    "def harga (p0,p1):\n",
    "    price = abs(p0-p1)\n",
    "    return price\n",
    "\n",
    "for i in range (2,len(data[:,56])):\n",
    "    \n",
    "    array_jarak = np.full([2,len(data[:,56])],np.nan)\n",
    "    \n",
    "    for j in range (2,len(data[:,56])):\n",
    "        if i != j:\n",
    "            array_jarak[0,j] = jarak(data[i,56],data[i,57],data[j,56],data[j,57])\n",
    "            array_jarak[1,j] = j\n",
    "    \n",
    "    dummy_jarak = array_jarak[:,np.argsort(array_jarak[0])][0:n]\n",
    "    nearest_jarak = dummy_jarak[:,0:n]\n",
    "    LD = (np.sum(nearest_jarak[0,:]))/n\n",
    "    data[i,58] = LD\n",
    "    \n",
    "    #Cari perbedaan harga di hotel-hotel terdekat  \n",
    "    \n",
    "    PD_H1 = np.full(len(data[2,59:69]),np.nan)  #Array PD H+1, panjangnya = 10\n",
    "    PD_H7 = np.full(len(data[2,69:79]),np.nan) #Array PD H+7, panjangnya = 10  \n",
    "    \n",
    "    for k in range (10):\n",
    "        m1 = 0\n",
    "        sum_PD1 = 0\n",
    "        m7 = 0\n",
    "        sum_PD7 = 0          \n",
    "        for j in range (len(nearest_jarak[1])):\n",
    "            z = int(nearest_jarak[1,j])                    \n",
    "            if data[i,k+25] > 0 and data[z,k+25] > 0 : #Buat H+1\n",
    "                PD_temp1 = harga(data[i,k+25],data[z,k+25])\n",
    "                m1 = m1+1\n",
    "                sum_PD1 = sum_PD1 + PD_temp1            \n",
    "            if data[i,k+35] > 0 and data[z,k+35] > 0 : #Buat H+7\n",
    "                PD_temp7 = harga(data[i,k+35],data[z,k+35])\n",
    "                m7 = m7+1\n",
    "                sum_PD7 = sum_PD7 + PD_temp7   \n",
    "        if m1 > 0 :\n",
    "            PD_H1[k] = sum_PD1/m1\n",
    "        if m7 > 0 :\n",
    "            PD_H7[k] = sum_PD7/m7\n",
    "            \n",
    "    data[i,59:69] = PD_H1\n",
    "    data[i,69:79] = PD_H7"
   ]
  },
  {
   "cell_type": "code",
   "execution_count": 4,
   "metadata": {},
   "outputs": [],
   "source": [
    "df_data = pd.DataFrame(data)\n",
    "df_data.to_excel(r\"C:\\Users\\Acer\\Downloads\\data_ld_pd2.xlsx\")"
   ]
  }
 ],
 "metadata": {
  "kernelspec": {
   "display_name": "Python 3 (ipykernel)",
   "language": "python",
   "name": "python3"
  },
  "language_info": {
   "codemirror_mode": {
    "name": "ipython",
    "version": 3
   },
   "file_extension": ".py",
   "mimetype": "text/x-python",
   "name": "python",
   "nbconvert_exporter": "python",
   "pygments_lexer": "ipython3",
   "version": "3.9.12"
  }
 },
 "nbformat": 4,
 "nbformat_minor": 4
}
