{
 "cells": [
  {
   "cell_type": "code",
   "execution_count": 1,
   "metadata": {},
   "outputs": [],
   "source": [
    "import pandas as pd\n",
    "import numpy as np \n",
    "import openpyxl\n",
    "from pathlib import Path"
   ]
  },
  {
   "cell_type": "code",
   "execution_count": 2,
   "metadata": {},
   "outputs": [],
   "source": [
    "#Import data\n",
    "df1 = pd.read_excel(r'C:\\Users\\Acer\\OneDrive - Institut Teknologi Bandung\\Magang BI\\Data\\Web Scraping Hotel\\data fix 2\\data_fix_Yogyakarta2.xlsx', sheet_name=\"Meta Hotel\",engine = \"openpyxl\")\n",
    "data1 = np.array(df1)\n",
    "#print(df1)"
   ]
  },
  {
   "cell_type": "code",
   "execution_count": 3,
   "metadata": {},
   "outputs": [],
   "source": [
    "baris = len(data1[1:,0])\n",
    "kolom = 10\n",
    "awal_h_1 = np.zeros((baris,kolom))\n",
    "awal_h_7 = np.zeros((baris,kolom))\n",
    "diskon_h_1 = np.zeros((baris,kolom))\n",
    "diskon_h_7 = np.zeros((baris,kolom))"
   ]
  },
  {
   "cell_type": "code",
   "execution_count": 4,
   "metadata": {},
   "outputs": [],
   "source": [
    "a = 0\n",
    "b = 0\n",
    "c = 0\n",
    "d = 0\n",
    "\n",
    "for i in range (5,45):\n",
    "    if i%2 != 0 and i<=24:\n",
    "        awal_h_1[:,a]=data1[1:,i]\n",
    "        a = a + 1\n",
    "    elif i%2 == 0 and i<=24:\n",
    "        awal_h_7[:,b]=data1[1:,i]\n",
    "        b = b + 1\n",
    "    elif i%2 != 0 and i>=25:\n",
    "        diskon_h_1[:,c]=data1[1:,i]\n",
    "        c = c + 1\n",
    "    elif i%2 == 0 and i>=25:\n",
    "        diskon_h_7[:,d]=data1[1:,i]\n",
    "        d = d + 1\n",
    "\n",
    "x = np.concatenate((awal_h_1,awal_h_7,diskon_h_1,diskon_h_7),axis=1)\n",
    "data1[1:,5:45] = x"
   ]
  },
  {
   "cell_type": "code",
   "execution_count": 5,
   "metadata": {},
   "outputs": [
    {
     "name": "stdout",
     "output_type": "stream",
     "text": [
      "                              0                                      1   \\\n",
      "0                            NaN                                    NaN   \n",
      "1                            NaN                                    NaN   \n",
      "2                  Hotel Limaran        Gondomanan, Yogyakarta Province   \n",
      "3                Hotel Limaran 1        Gondomanan, Yogyakarta Province   \n",
      "4         ibis Styles Yogyakarta  Malioboro Street, Yogyakarta Province   \n",
      "..                           ...                                    ...   \n",
      "438      Tjokro Style Yogyakarta        Umbulharjo, Yogyakarta Province   \n",
      "439  Votel Maerakatja Yogyakarta         Tegalrejo, Yogyakarta Province   \n",
      "440  Yellow Star Ambarukmo Hotel             Depok, Yogyakarta Province   \n",
      "441    Yellow Star Gejayan Hotel           Gejayan, Yogyakarta Province   \n",
      "442    Yogyakarta Marriott Hotel             Depok, Yogyakarta Province   \n",
      "\n",
      "                                                    2       3    4   \\\n",
      "0                                                  NaN     NaN  NaN   \n",
      "1                                                  NaN     NaN  NaN   \n",
      "2    Jalan Mayor Suryotomo Daerah Istimewa Yogyakar...  HOTELS    0   \n",
      "3    Jalan Mayor Suryotomo Daerah Istimewa Yogyakar...  HOTELS    1   \n",
      "4    Jalan Dagen No 109, Malioboro Street, Yogyakar...  HOTELS    4   \n",
      "..                                                 ...     ...  ...   \n",
      "438  Jalan Menteri Supeno No 48, Umbulharjo, Yogyak...  HOTELS    3   \n",
      "439  Jalan R.W. Monginsidi No.22B, Karangwaru, Tega...  HOTELS    0   \n",
      "440  Jalan Laksda Adisucipto No.23, Depok, Yogyakar...  HOTELS    3   \n",
      "441  Jalan Gejayan No. 27 A , Depok, Gejayan, Yogya...  HOTELS    3   \n",
      "442  Jl. Ring Road Utara, Condong Catur, Depok, Yog...  HOTELS    5   \n",
      "\n",
      "              5            6            7            8            9   ...  \\\n",
      "0           1111          NaN         1112          NaN         1113  ...   \n",
      "1           1112         1113         1114         1115         1116  ...   \n",
      "2            NaN          NaN       212461       245054       286259  ...   \n",
      "3            NaN          NaN       196974       227190       265392  ...   \n",
      "4            NaN          NaN          NaN       700701       688252  ...   \n",
      "..           ...          ...          ...          ...          ...  ...   \n",
      "438       800000      1.1e+06       440000       440000       503704  ...   \n",
      "439       277333       370667       277333       277333       277333  ...   \n",
      "440       603000       937082       360000       360000       363000  ...   \n",
      "441       558000       908000       350000       350000       345000  ...   \n",
      "442  2.45472e+06  2.55162e+06  2.14788e+06  2.45472e+06  2.14788e+06  ...   \n",
      "\n",
      "       46    47    48    49    50    51    52    53    54  \\\n",
      "0    1112  1113  1114  1115  1116  1117  1118  1119  1120   \n",
      "1     NaN   NaN   NaN   NaN   NaN   NaN   NaN   NaN   NaN   \n",
      "2     NaN     0     0     0     0   NaN   NaN   NaN   NaN   \n",
      "3     NaN   8.3   8.3   8.3   8.3   NaN   NaN   NaN   NaN   \n",
      "4     NaN   8.4   8.4   8.4   8.4   NaN   NaN   NaN   8.4   \n",
      "..    ...   ...   ...   ...   ...   ...   ...   ...   ...   \n",
      "438   8.6   8.6   8.6   8.6   8.6   8.6   8.6   8.6   8.6   \n",
      "439   8.5   8.5   8.5   8.5   8.5   8.5   8.5   8.5   8.5   \n",
      "440   8.4   8.4   8.4   8.4   8.4   8.4   8.4   8.4   8.4   \n",
      "441   8.5   8.5   8.5   8.5   8.5   8.5   8.5   8.5   8.5   \n",
      "442     9     9     9     9     9     9     9     9     9   \n",
      "\n",
      "                                                    55  \n",
      "0                                                  NaN  \n",
      "1                                                  NaN  \n",
      "2                                  Restaurant,Parking,  \n",
      "3                                  Restaurant,Parking,  \n",
      "4    AC,Restaurant,Swimming Pool,24-Hour Front Desk...  \n",
      "..                                                 ...  \n",
      "438  AC,Restaurant,Swimming Pool,24-Hour Front Desk...  \n",
      "439                AC,24-Hour Front Desk,Parking,WiFi,  \n",
      "440  AC,Restaurant,24-Hour Front Desk,Parking,Eleva...  \n",
      "441  AC,Restaurant,24-Hour Front Desk,Parking,Eleva...  \n",
      "442  AC,Restaurant,Swimming Pool,24-Hour Front Desk...  \n",
      "\n",
      "[443 rows x 56 columns]\n"
     ]
    }
   ],
   "source": [
    "df_data = pd.DataFrame(data1)\n",
    "print(df_data)\n",
    "df_data.to_excel(r\"C:\\Users\\Acer\\Downloads\\data_rapi_H_nov.xlsx\")"
   ]
  },
  {
   "cell_type": "code",
   "execution_count": 6,
   "metadata": {},
   "outputs": [
    {
     "name": "stdout",
     "output_type": "stream",
     "text": [
      "[[nan nan 212461.0 ... nan nan nan]\n",
      " [nan nan 196974.0 ... nan nan nan]\n",
      " [nan nan nan ... nan nan 391390.0]\n",
      " ...\n",
      " [603000.0 937082.0 360000.0 ... 502200.0 799200.0 324000.0]\n",
      " [558000.0 908000.0 350000.0 ... 475200.0 520200.0 315000.0]\n",
      " [2454719.0 2551616.0 2147879.0 ... 1417116.0 1538237.0 1526125.0]]\n"
     ]
    }
   ],
   "source": [
    "print(data1[2:,5:45])"
   ]
  }
 ],
 "metadata": {
  "kernelspec": {
   "display_name": "Python 3 (ipykernel)",
   "language": "python",
   "name": "python3"
  },
  "language_info": {
   "codemirror_mode": {
    "name": "ipython",
    "version": 3
   },
   "file_extension": ".py",
   "mimetype": "text/x-python",
   "name": "python",
   "nbconvert_exporter": "python",
   "pygments_lexer": "ipython3",
   "version": "3.9.12"
  }
 },
 "nbformat": 4,
 "nbformat_minor": 4
}
