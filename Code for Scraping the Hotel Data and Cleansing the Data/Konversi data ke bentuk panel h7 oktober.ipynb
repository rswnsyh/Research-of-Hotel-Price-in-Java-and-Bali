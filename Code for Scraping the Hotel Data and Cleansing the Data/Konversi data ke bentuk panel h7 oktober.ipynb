{
 "cells": [
  {
   "cell_type": "code",
   "execution_count": 1,
   "metadata": {},
   "outputs": [],
   "source": [
    "import pandas as pd\n",
    "import numpy as np \n",
    "import openpyxl\n",
    "from pathlib import Path"
   ]
  },
  {
   "cell_type": "code",
   "execution_count": 2,
   "metadata": {},
   "outputs": [],
   "source": [
    "#Import data\n",
    "df = pd.read_excel(r'C:\\Users\\Acer\\OneDrive - Institut Teknologi Bandung\\Magang BI\\Data\\Web Scraping Hotel\\data fix\\data_fix_Yogyakarta.xlsx', sheet_name=\"Hotel_2\",engine = \"openpyxl\")\n",
    "data = np.array(df)"
   ]
  },
  {
   "cell_type": "code",
   "execution_count": 3,
   "metadata": {},
   "outputs": [],
   "source": [
    "#Banten H+7\n",
    "panel = np.full([(13*len(data[2:,0])),22],np.nan,dtype=object)\n",
    "harga = data[2:,44:57]\n",
    "tanggal = data[1,44:57]\n",
    "rating = data[2:,57:70]\n",
    "P_D = data[2:,87:100]\n",
    "\n",
    "#Masukin harga & rating\n",
    "a = 0\n",
    "for i in range (len(harga[:,0])):\n",
    "    for j in range (len(harga[0,:])):\n",
    "        panel[a,2] = harga[i,j]\n",
    "        panel[a,5] = rating[i,j]\n",
    "        panel[a,9] = P_D[i,j]\n",
    "        a = a + 1\n",
    "        \n",
    "#Masukin data lain\n",
    "a = 0\n",
    "b = 2\n",
    "for h in range (int(len(panel[:,2])/len(tanggal))):\n",
    "    for i in range (len(tanggal)):\n",
    "        panel[i+a,1] = tanggal[i] #tanggal\n",
    "        panel[i+a,0] = data[b,0] #Nama hotel\n",
    "        panel[i+a,3] = data[b,118] #Daerah\n",
    "        panel[i+a,4] = data[b,4] #Bintang\n",
    "        panel[i+a,6] = data[b,71] #Latitude\n",
    "        panel[i+a,7] = data[b,72] #Longitude\n",
    "        panel[i+a,8] = data[b,73] #LD\n",
    "        panel[i+a,10] = 1 #Oktober\n",
    "        panel[i+a,11] = 0 #November\n",
    "        panel[i+a,13:20] = data[b,103:110] #Fasilitas\n",
    "        panel[i+a,20:22] = data[b,116:118] #Tipe kamar\n",
    "    a = a + 13\n",
    "    b = b + 1\n",
    "\n",
    "#Masukin weekend\n",
    "for i in range(len(panel[:,1])):\n",
    "    if panel[i,1] == 1030 or panel[i,1] == 1031 or panel[i,1] == 1106 or panel[i,1] == 1107:\n",
    "        panel[i,12] = 1\n",
    "    else:\n",
    "        panel[i,12] = 0"
   ]
  },
  {
   "cell_type": "code",
   "execution_count": 4,
   "metadata": {},
   "outputs": [
    {
     "name": "stdout",
     "output_type": "stream",
     "text": [
      "                                 0     1       2           3  4    5   \\\n",
      "0            Jogja Backpacker Rooms  1027   99000      sleman  0  8.2   \n",
      "1            Jogja Backpacker Rooms  1028   99000      sleman  0  8.2   \n",
      "2            Jogja Backpacker Rooms  1029   99000      sleman  0  8.2   \n",
      "3            Jogja Backpacker Rooms  1030   99000      sleman  0  8.2   \n",
      "4            Jogja Backpacker Rooms  1031   99000      sleman  0  8.2   \n",
      "...                             ...   ...     ...         ... ..  ...   \n",
      "5819  POP! Hotel Timoho, Yogyakarta  1104  225600  yogyakarta  2  8.5   \n",
      "5820  POP! Hotel Timoho, Yogyakarta  1105     NaN  yogyakarta  2  8.5   \n",
      "5821  POP! Hotel Timoho, Yogyakarta  1106     NaN  yogyakarta  2  8.5   \n",
      "5822  POP! Hotel Timoho, Yogyakarta  1107  225600  yogyakarta  2  8.5   \n",
      "5823  POP! Hotel Timoho, Yogyakarta  1108  225600  yogyakarta  2  8.5   \n",
      "\n",
      "           6        7           8        9   ... 12 13 14 15 16 17 18 19 20 21  \n",
      "0     -7.7475  110.421   0.0143625  76331.8  ...  0  1  1  1  0  1  1  0  1  0  \n",
      "1     -7.7475  110.421   0.0143625  85451.6  ...  0  1  1  1  0  1  1  0  1  0  \n",
      "2     -7.7475  110.421   0.0143625  87349.3  ...  0  1  1  1  0  1  1  0  1  0  \n",
      "3     -7.7475  110.421   0.0143625  89652.7  ...  1  1  1  1  0  1  1  0  1  0  \n",
      "4     -7.7475  110.421   0.0143625    88306  ...  1  1  1  1  0  1  1  0  1  0  \n",
      "...       ...      ...         ...      ...  ... .. .. .. .. .. .. .. .. .. ..  \n",
      "5819 -7.79862  110.391  0.00373282  97293.6  ...  0  1  0  1  1  1  1  0  1  0  \n",
      "5820 -7.79862  110.391  0.00373282      NaN  ...  0  1  0  1  1  1  1  0  1  0  \n",
      "5821 -7.79862  110.391  0.00373282      NaN  ...  1  1  0  1  1  1  1  0  1  0  \n",
      "5822 -7.79862  110.391  0.00373282    95454  ...  1  1  0  1  1  1  1  0  1  0  \n",
      "5823 -7.79862  110.391  0.00373282  94792.8  ...  0  1  0  1  1  1  1  0  1  0  \n",
      "\n",
      "[5824 rows x 22 columns]\n"
     ]
    }
   ],
   "source": [
    "df_panel = pd.DataFrame(panel)\n",
    "print(df_panel)\n",
    "df_panel.to_excel(r\"C:\\Users\\Acer\\Downloads\\panel_data_h7_1.xlsx\")"
   ]
  }
 ],
 "metadata": {
  "kernelspec": {
   "display_name": "Python 3 (ipykernel)",
   "language": "python",
   "name": "python3"
  },
  "language_info": {
   "codemirror_mode": {
    "name": "ipython",
    "version": 3
   },
   "file_extension": ".py",
   "mimetype": "text/x-python",
   "name": "python",
   "nbconvert_exporter": "python",
   "pygments_lexer": "ipython3",
   "version": "3.9.12"
  }
 },
 "nbformat": 4,
 "nbformat_minor": 4
}
