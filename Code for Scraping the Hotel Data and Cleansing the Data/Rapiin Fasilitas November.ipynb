{
 "cells": [
  {
   "cell_type": "code",
   "execution_count": 1,
   "metadata": {},
   "outputs": [],
   "source": [
    "import pandas as pd\n",
    "import numpy as np \n",
    "import openpyxl\n",
    "from pathlib import Path"
   ]
  },
  {
   "cell_type": "code",
   "execution_count": 2,
   "metadata": {},
   "outputs": [
    {
     "name": "stdout",
     "output_type": "stream",
     "text": [
      "AC\n"
     ]
    }
   ],
   "source": [
    "#Import data\n",
    "df = pd.read_excel(r'C:\\Users\\Acer\\OneDrive - Institut Teknologi Bandung\\Magang BI\\Data\\Web Scraping Hotel\\data fix 2\\data_fix_Yogyakarta2.xlsx', sheet_name=\"Hotel_2\",engine = \"openpyxl\")\n",
    "data = np.array(df)\n",
    "var_fasil = df.columns\n",
    "print(var_fasil[82])"
   ]
  },
  {
   "cell_type": "code",
   "execution_count": 3,
   "metadata": {},
   "outputs": [],
   "source": [
    "#Fasilitas 55\n",
    "#AC 82\n",
    "#Restaurant 83\n",
    "#24-Hour Front Desk 83\n",
    "#Elevator 85\n",
    "#WiFi 86\n",
    "#Parking 87\n",
    "#Swimming Pool 88\n",
    "\n",
    "for i in range (2,len(data[:,55])):\n",
    "    fasil = str(data[i,55]).split(\",\")\n",
    "    for j in range (len(fasil)):\n",
    "        if fasil[j] == var_fasil[82]:\n",
    "            data[i,82] = 1\n",
    "        elif fasil[j] == var_fasil[83]:\n",
    "            data[i,83] = 1\n",
    "        elif fasil[j] == var_fasil[84]:\n",
    "            data[i,84] = 1\n",
    "        elif fasil[j] == var_fasil[85]:\n",
    "            data[i,85] = 1\n",
    "        elif fasil[j] == var_fasil[86]:\n",
    "            data[i,86] = 1\n",
    "        elif fasil[j] == var_fasil[87]:\n",
    "            data[i,87] = 1\n",
    "        elif fasil[j] == var_fasil[88]:\n",
    "            data[i,88] = 1\n",
    "        "
   ]
  },
  {
   "cell_type": "code",
   "execution_count": 4,
   "metadata": {},
   "outputs": [
    {
     "name": "stdout",
     "output_type": "stream",
     "text": [
      "                                     0                               1   \\\n",
      "0                                   NaN                             NaN   \n",
      "1                                   NaN                             NaN   \n",
      "2             OYO 90669 Omah Candi Sari      Temon, Yogyakarta Province   \n",
      "3               Cordia Hotel Yogyakarta      Temon, Yogyakarta Province   \n",
      "4     OYO 2314 Hapsari Homestay Syariah      Temon, Yogyakarta Province   \n",
      "..                                  ...                             ...   \n",
      "437             OYO 90496 Izzi Ekslusif      Depok, Yogyakarta Province   \n",
      "438                       Omah Sastro 1      Depok, Yogyakarta Province   \n",
      "439                  Primadona Homestay  Kaliurang, Yogyakarta Province   \n",
      "440                  OYO 90253 D'helomi      Depok, Yogyakarta Province   \n",
      "441  Green Belt Near Bandara Adisucipto   Ngemplak, Yogyakarta Province   \n",
      "\n",
      "                                                    2       3    4       5   \\\n",
      "0                                                  NaN     NaN  NaN     H+1   \n",
      "1                                                  NaN     NaN  NaN    1112   \n",
      "2    10, Karangwuluh, Temon, Kulon Progo, Daerah Is...  HOTELS    0  224313   \n",
      "3    Arrival Terminal - Yogyakarta International Ai...  HOTELS    3  594000   \n",
      "4    Jl. Kalidengen 2, Kalidengen, Kec. Temon, Yogy...  HOTELS  1.5  331540   \n",
      "..                                                 ...     ...  ...     ...   \n",
      "437  316, Hotel Srikandi, Jalan Tantular, Condong C...  HOTELS    0  168992   \n",
      "438  Puri Gejayan C-31, Depok, Yogyakarta, Yogyakar...  HOTELS    1  440000   \n",
      "439  Jl. Kaliurang KM 23, Banteng, Hargobinangun, K...  HOTELS  2.5  342387   \n",
      "440  Ringinsari RT 6/RW 50, Depok, Yogyakarta, Yogy...  HOTELS    0  323788   \n",
      "441  Jl. Raya Tajem Gg Mandiri No. 7, Kp Pucanganom...  HOTELS    0  400000   \n",
      "\n",
      "         6       7       8       9   ...   79   80   81   82   83   84   85  \\\n",
      "0       NaN     NaN     NaN     NaN  ...  NaN  NaN  NaN  NaN  NaN  NaN  NaN   \n",
      "1      1113    1114    1115    1116  ...  NaN  NaN  NaN  NaN  NaN  NaN  NaN   \n",
      "2    297747  246929  251380  255674  ...  NaN  NaN  NaN    1  NaN  NaN  NaN   \n",
      "3    594000  594000  594000  594000  ...  NaN  NaN  NaN  NaN    1    1    1   \n",
      "4       NaN  438858     NaN  335795  ...  NaN  NaN  NaN    1  NaN  NaN  NaN   \n",
      "..      ...     ...     ...     ...  ...  ...  ...  ...  ...  ...  ...  ...   \n",
      "437  170609  168992  168992  187576  ...  NaN  NaN  NaN    1  NaN    1  NaN   \n",
      "438  480000  440000  440000  440000  ...  NaN  NaN  NaN    1    1    1  NaN   \n",
      "439  342387  324693  324693  324693  ...  NaN  NaN  NaN  NaN  NaN  NaN  NaN   \n",
      "440     NaN  311135  314521  306740  ...  NaN  NaN  NaN    1    1  NaN  NaN   \n",
      "441  400000  400000  400000     NaN  ...  NaN  NaN  NaN    1  NaN    1  NaN   \n",
      "\n",
      "      86   87   88  \n",
      "0    NaN  NaN  NaN  \n",
      "1    NaN  NaN  NaN  \n",
      "2      1    1  NaN  \n",
      "3      1    1  NaN  \n",
      "4      1    1  NaN  \n",
      "..   ...  ...  ...  \n",
      "437    1    1  NaN  \n",
      "438    1    1  NaN  \n",
      "439  NaN  NaN  NaN  \n",
      "440    1    1  NaN  \n",
      "441    1    1  NaN  \n",
      "\n",
      "[442 rows x 89 columns]\n"
     ]
    }
   ],
   "source": [
    "df_data = pd.DataFrame(data)\n",
    "print(df_data)\n",
    "df_data.to_excel(r\"C:\\Users\\Acer\\Downloads\\data_var_fasil2.xlsx\")"
   ]
  }
 ],
 "metadata": {
  "kernelspec": {
   "display_name": "Python 3 (ipykernel)",
   "language": "python",
   "name": "python3"
  },
  "language_info": {
   "codemirror_mode": {
    "name": "ipython",
    "version": 3
   },
   "file_extension": ".py",
   "mimetype": "text/x-python",
   "name": "python",
   "nbconvert_exporter": "python",
   "pygments_lexer": "ipython3",
   "version": "3.9.12"
  }
 },
 "nbformat": 4,
 "nbformat_minor": 4
}
