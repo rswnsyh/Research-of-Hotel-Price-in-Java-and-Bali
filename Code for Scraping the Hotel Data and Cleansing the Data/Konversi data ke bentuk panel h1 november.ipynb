{
 "cells": [
  {
   "cell_type": "code",
   "execution_count": 1,
   "metadata": {},
   "outputs": [],
   "source": [
    "import pandas as pd\n",
    "import numpy as np \n",
    "import openpyxl\n",
    "from pathlib import Path"
   ]
  },
  {
   "cell_type": "code",
   "execution_count": 2,
   "metadata": {},
   "outputs": [],
   "source": [
    "#Import data\n",
    "df = pd.read_excel(r'C:\\Users\\Acer\\OneDrive - Institut Teknologi Bandung\\Magang BI\\Data\\Web Scraping Hotel\\data fix 2\\data_fix_Yogyakarta2.xlsx', sheet_name=\"Hotel_2\",engine = \"openpyxl\")\n",
    "data = np.array(df)"
   ]
  },
  {
   "cell_type": "code",
   "execution_count": 3,
   "metadata": {},
   "outputs": [],
   "source": [
    "#Banten H+1\n",
    "panel = np.full([(10*len(data[2:,0])),22],np.nan,dtype=object)\n",
    "harga = data[2:,25:35]\n",
    "tanggal = data[1,25:35]\n",
    "rating = data[2:,45:55]\n",
    "P_D = data[2:,59:69]\n",
    "\n",
    "#Masukin harga, rating, dan price different\n",
    "a = 0\n",
    "for i in range (len(harga[:,0])):\n",
    "    for j in range (len(harga[0,:])):\n",
    "        panel[a,2] = harga[i,j]\n",
    "        panel[a,5] = rating[i,j]\n",
    "        panel[a,9] = P_D[i,j]\n",
    "        a = a + 1\n",
    "        \n",
    "#Masukin data lain\n",
    "a = 0\n",
    "b = 2\n",
    "for h in range (int(len(panel[:,2])/len(tanggal))):\n",
    "    for i in range (len(tanggal)):\n",
    "        panel[i+a,1] = tanggal[i] #tanggal\n",
    "        panel[i+a,0] = data[b,0] #Nama hotel\n",
    "        panel[i+a,3] = data[b,97] #Daerah\n",
    "        panel[i+a,4] = data[b,4] #Bintang\n",
    "        panel[i+a,6] = data[b,56] #Latitude\n",
    "        panel[i+a,7] = data[b,57] #Longitude\n",
    "        panel[i+a,8] = data[b,58] #LD\n",
    "        panel[i+a,10] = 0 #Oktober\n",
    "        panel[i+a,11] = 1 #November\n",
    "        panel[i+a,13:20] = data[b,82:89] #Faslitas\n",
    "        panel[i+a,20:22] = data[b,95:97] #Tipe kamar\n",
    "        \n",
    "    a = a + 10\n",
    "    b = b + 1\n",
    "\n",
    "#Masukin weekend\n",
    "for i in range(len(panel[:,1])):\n",
    "    if panel[i,1] == 1113 or panel[i,1] == 1114 or panel[i,1] == 1120 or panel[i,1] == 1121:\n",
    "        panel[i,12] = 1\n",
    "    else:\n",
    "        panel[i,12] = 0"
   ]
  },
  {
   "cell_type": "code",
   "execution_count": 4,
   "metadata": {},
   "outputs": [
    {
     "name": "stdout",
     "output_type": "stream",
     "text": [
      "                           0     1       2           3  4    5        6   \\\n",
      "0     Griya Godean Yogyakarta  1112     NaN      bantul  0  6.4 -7.78035   \n",
      "1     Griya Godean Yogyakarta  1113     NaN      bantul  0  6.4 -7.78035   \n",
      "2     Griya Godean Yogyakarta  1114     NaN      bantul  0  6.4 -7.78035   \n",
      "3     Griya Godean Yogyakarta  1115     NaN      bantul  0  6.4 -7.78035   \n",
      "4     Griya Godean Yogyakarta  1116     NaN      bantul  0  6.4 -7.78035   \n",
      "...                       ...   ...     ...         ... ..  ...      ...   \n",
      "4395            Hotel Virgo 2  1117  140000  yogyakarta  0  8.2  -7.7906   \n",
      "4396            Hotel Virgo 2  1118     NaN  yogyakarta  0  8.2  -7.7906   \n",
      "4397            Hotel Virgo 2  1119     NaN  yogyakarta  0  8.2  -7.7906   \n",
      "4398            Hotel Virgo 2  1120     NaN  yogyakarta  0  8.2  -7.7906   \n",
      "4399            Hotel Virgo 2  1121  150000  yogyakarta  0  8.2  -7.7906   \n",
      "\n",
      "           7            8       9   ... 12 13 14 15 16 17 18 19 20 21  \n",
      "0     110.347    0.0142096     NaN  ...  0  0  0  0  0  1  0  0  1  0  \n",
      "1     110.347    0.0142096     NaN  ...  1  0  0  0  0  1  0  0  1  0  \n",
      "2     110.347    0.0142096     NaN  ...  1  0  0  0  0  1  0  0  1  0  \n",
      "3     110.347    0.0142096     NaN  ...  0  0  0  0  0  1  0  0  1  0  \n",
      "4     110.347    0.0142096     NaN  ...  0  0  0  0  0  1  0  0  1  0  \n",
      "...       ...          ...     ...  ... .. .. .. .. .. .. .. .. .. ..  \n",
      "4395  110.364  0.000873962  290760  ...  0  1  0  1  0  1  0  0  1  0  \n",
      "4396  110.364  0.000873962  901386  ...  0  1  0  1  0  1  0  0  1  0  \n",
      "4397  110.364  0.000873962     NaN  ...  0  1  0  1  0  1  0  0  1  0  \n",
      "4398  110.364  0.000873962     NaN  ...  1  1  0  1  0  1  0  0  1  0  \n",
      "4399  110.364  0.000873962  354095  ...  1  1  0  1  0  1  0  0  1  0  \n",
      "\n",
      "[4400 rows x 22 columns]\n"
     ]
    }
   ],
   "source": [
    "df_panel = pd.DataFrame(panel)\n",
    "print(df_panel)\n",
    "df_panel.to_excel(r\"C:\\Users\\Acer\\Downloads\\panel_data_h1_2.xlsx\")"
   ]
  }
 ],
 "metadata": {
  "kernelspec": {
   "display_name": "Python 3 (ipykernel)",
   "language": "python",
   "name": "python3"
  },
  "language_info": {
   "codemirror_mode": {
    "name": "ipython",
    "version": 3
   },
   "file_extension": ".py",
   "mimetype": "text/x-python",
   "name": "python",
   "nbconvert_exporter": "python",
   "pygments_lexer": "ipython3",
   "version": "3.9.12"
  }
 },
 "nbformat": 4,
 "nbformat_minor": 4
}
