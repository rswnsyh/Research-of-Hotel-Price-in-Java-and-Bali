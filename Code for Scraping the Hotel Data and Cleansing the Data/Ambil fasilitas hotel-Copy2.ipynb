{
 "cells": [
  {
   "cell_type": "code",
   "execution_count": 1,
   "metadata": {},
   "outputs": [],
   "source": [
    "from selenium import webdriver\n",
    "from time import sleep\n",
    "import pandas as pd\n",
    "import openpyxl\n",
    "import numpy as np"
   ]
  },
  {
   "cell_type": "code",
   "execution_count": 2,
   "metadata": {},
   "outputs": [],
   "source": [
    "#Import data\n",
    "df1 = pd.read_excel(r'C:\\Users\\Acer\\OneDrive - Institut Teknologi Bandung\\Magang BI\\Data\\Web Scraping Hotel\\data fix\\data_fix_JawaTengah.xlsx', sheet_name=\"Sheet1\",engine = \"openpyxl\")\n",
    "data1 = np.array(df1)"
   ]
  },
  {
   "cell_type": "code",
   "execution_count": 3,
   "metadata": {},
   "outputs": [],
   "source": [
    "#Buka Traveloka\n",
    "link = \"https://www.traveloka.com/en-id/hotel/search?spec=22-11-2021.23-11-2021.1.1.HOTEL_GEO.106447.Central%20Java.2\"\n",
    "path = \"C:\\Program Files (x86)\\chromedriver.exe\"\n",
    "driver = webdriver.Chrome(path)\n",
    "driver.get(link)\n",
    "\n",
    "for i in range(208,len(data1[:,1])):\n",
    "    #Masukkan dan cari nama hotel\n",
    "    sleep(3)\n",
    "    search_button = driver.find_element_by_class_name(\"_1VnvT\")\n",
    "    input_hotel = search_button.find_element_by_xpath(\"/html/body/div[1]/div[2]/div/div[2]/div[2]/div[3]/div[2]/div[2]/div/div[2]/div/div[3]/div/div[1]/label/div/div/div[2]/div/input\")\n",
    "    input_hotel.send_keys(data1[i,1])\n",
    "    hasil = driver.find_element_by_xpath(\"/html/body/div[1]/div[2]/div/div[2]/div[2]/div[3]/div[2]/div[2]/div/div[2]/div/div[3]/div/div[2]/div/div/div[2]/div\")\n",
    "    hasil.click()\n",
    "    sleep(4)\n",
    "    hotel = driver.find_element_by_xpath(\"/html/body/div[1]/div[2]/div/div[2]/div[2]/div[3]/div[2]/div[3]/div[1]/div\")\n",
    "    hotel.click()\n",
    "\n",
    "    #Ambil data hotel\n",
    "    try:\n",
    "        sleep(3)\n",
    "        driver.switch_to.window(driver.window_handles[1])\n",
    "        tipe = driver.find_element_by_class_name(\"_1kzbT\")\n",
    "        alamat = driver.find_element_by_class_name(\"_1I8E_\")\n",
    "        fasilitas = driver.find_elements_by_class_name(\"ImD1q\") \n",
    "\n",
    "        data1[i,4] = tipe.text\n",
    "        data1[i,3] = alamat.text\n",
    "        data1[i,71] = \"\"\n",
    "        for j in range (len(fasilitas)):\n",
    "            data1[i,71] = str(data1[i,71]) + fasilitas[j].text + \",\"\n",
    "\n",
    "        #tutup tab\n",
    "        driver.close()\n",
    "        driver.switch_to.window(driver.window_handles[0]) \n",
    "    except:\n",
    "        continue"
   ]
  },
  {
   "cell_type": "code",
   "execution_count": 4,
   "metadata": {
    "scrolled": true
   },
   "outputs": [
    {
     "name": "stdout",
     "output_type": "stream",
     "text": [
      "       0                                      1   \\\n",
      "0     NaN                                    NaN   \n",
      "1     NaN                                    NaN   \n",
      "2     NaN      @HOM Hotel Kudus by Horison Group   \n",
      "3     NaN                  @HOM Premiere Cilacap   \n",
      "4     NaN  @HOM Semarang Simpang Lima By Horison   \n",
      "...   ...                                    ...   \n",
      "1206  NaN         WR Apartment Simpang Lima (SP)   \n",
      "1207  NaN                     Zaen Hotel Syariah   \n",
      "1208  NaN               Zara Syariah Guest House   \n",
      "1209  NaN            Zest Hotel Parang Raja Solo   \n",
      "1210  NaN                       ZG Homestay Solo   \n",
      "\n",
      "                                  2   \\\n",
      "0                                NaN   \n",
      "1                                NaN   \n",
      "2                 Jawa, Central Java   \n",
      "3        North Cilacap, Central Java   \n",
      "4     Central Semarang, Central Java   \n",
      "...                              ...   \n",
      "1206  Central Semarang, Central Java   \n",
      "1207         Purwosari, Central Java   \n",
      "1208   West Pekalongan, Central Java   \n",
      "1209           Manahan, Central Java   \n",
      "1210            Sumber, Central Java   \n",
      "\n",
      "                                                     3           4    5   \\\n",
      "0                                                   NaN         NaN  NaN   \n",
      "1                                                   NaN         NaN  NaN   \n",
      "2     JL . Tanjung No 14-16 kudus, Kota, Kudus, Jawa...      HOTELS    3   \n",
      "3     Jln. Perintis Kemerdekaan, Cilacap, Cilacap Ut...      HOTELS    3   \n",
      "4     Jl.Pandanaran No.119, Semarang Tengah, Semaran...      HOTELS    3   \n",
      "...                                                 ...         ...  ...   \n",
      "1206  Jalan Ahmad Yani No. 137 , Semarang Tengah, Se...  APARTMENTS    0   \n",
      "1207  Jl. Samanhudi No. 12, Mangkuyudan, Laweyan, So...      HOTELS    2   \n",
      "1208  Jl. Progo IV No.1 Kraton Lor Kota Pekalongan J...       HOMES    0   \n",
      "1209  Jl. Adi Sucipto No.28,Manahan Banjarsari Surak...      HOTELS    2   \n",
      "1210  Jl Pajajaran 1 No. A.1 Sumber, Banjarsari, Sol...       HOMES    0   \n",
      "\n",
      "           6       7       8       9   ...    63    64    65    66    67  \\\n",
      "0        1019     NaN    1020     NaN  ...  1024  1025  1026  1027  1028   \n",
      "1        1020    1027    1021    1028  ...   NaN   NaN   NaN   NaN   NaN   \n",
      "2      582324  582324     NaN  582324  ...   8.2   8.2   8.2   8.2   8.2   \n",
      "3      536044  536044  536044  536044  ...     8     8     8     8     8   \n",
      "4      466667  500000  466667  500000  ...   8.5   8.5   8.5   8.5   8.5   \n",
      "...       ...     ...     ...     ...  ...   ...   ...   ...   ...   ...   \n",
      "1206  1.2e+06     NaN  933333  666667  ...   7.1   7.1   7.1   7.1   7.1   \n",
      "1207   266667  213333  213333  213333  ...   8.5   8.5   8.5   8.5   8.5   \n",
      "1208   333333  333333  333333  333333  ...   8.8   8.8   8.8   8.8   8.8   \n",
      "1209   340000  290000  344000  290000  ...   8.7   8.7   8.7   8.7   8.7   \n",
      "1210    2e+06   2e+06   2e+06   2e+06  ...     0     0     0     0     0   \n",
      "\n",
      "        68    69    70                                                 71   72  \n",
      "0     1029  1030  1031                                                NaN  NaN  \n",
      "1      NaN   NaN   NaN                                                NaN  NaN  \n",
      "2      8.2   8.2   8.2  AC,Restaurant,24-Hour Front Desk,Parking,Eleva...  NaN  \n",
      "3        8     8     8     AC,Restaurant,24-Hour Front Desk,Parking,WiFi,  NaN  \n",
      "4      8.5   8.5   8.5  AC,Restaurant,24-Hour Front Desk,Parking,Eleva...  NaN  \n",
      "...    ...   ...   ...                                                ...  ...  \n",
      "1206   7.1   7.1   7.1  AC,Swimming Pool,24-Hour Front Desk,Parking,WiFi,  NaN  \n",
      "1207   8.5   8.5   8.5                AC,24-Hour Front Desk,Parking,WiFi,  NaN  \n",
      "1208   8.8   8.8   8.8                        AC,Restaurant,Parking,WiFi,  NaN  \n",
      "1209   8.7   8.7   8.7  AC,Restaurant,24-Hour Front Desk,Parking,Eleva...  NaN  \n",
      "1210     0     0     0                                      Parking,WiFi,  NaN  \n",
      "\n",
      "[1211 rows x 73 columns]\n"
     ]
    }
   ],
   "source": [
    "df_data = pd.DataFrame(data1)\n",
    "print(df_data)\n",
    "df_data.to_excel(r\"C:\\Users\\Acer\\Downloads\\data_JawaTengah_lengkap.xlsx\")"
   ]
  },
  {
   "cell_type": "code",
   "execution_count": 5,
   "metadata": {},
   "outputs": [
    {
     "name": "stdout",
     "output_type": "stream",
     "text": [
      "1210\n"
     ]
    }
   ],
   "source": [
    "print(i)"
   ]
  }
 ],
 "metadata": {
  "kernelspec": {
   "display_name": "Python 3 (ipykernel)",
   "language": "python",
   "name": "python3"
  },
  "language_info": {
   "codemirror_mode": {
    "name": "ipython",
    "version": 3
   },
   "file_extension": ".py",
   "mimetype": "text/x-python",
   "name": "python",
   "nbconvert_exporter": "python",
   "pygments_lexer": "ipython3",
   "version": "3.9.12"
  }
 },
 "nbformat": 4,
 "nbformat_minor": 4
}
