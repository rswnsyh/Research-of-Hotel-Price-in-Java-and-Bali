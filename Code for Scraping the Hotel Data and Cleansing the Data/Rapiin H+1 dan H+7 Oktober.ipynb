{
 "cells": [
  {
   "cell_type": "code",
   "execution_count": 1,
   "metadata": {},
   "outputs": [],
   "source": [
    "import pandas as pd\n",
    "import numpy as np \n",
    "import openpyxl\n",
    "from pathlib import Path"
   ]
  },
  {
   "cell_type": "code",
   "execution_count": 2,
   "metadata": {},
   "outputs": [],
   "source": [
    "#Import data\n",
    "df1 = pd.read_excel(r'C:\\Users\\Acer\\OneDrive - Institut Teknologi Bandung\\Magang BI\\Data\\Web Scraping Hotel\\data fix\\data_fix_Yogyakarta.xlsx', sheet_name=\"Meta Hotel\",engine = \"openpyxl\")\n",
    "data1 = np.array(df1)\n",
    "#print(df1)"
   ]
  },
  {
   "cell_type": "code",
   "execution_count": 3,
   "metadata": {},
   "outputs": [],
   "source": [
    "baris = len(data1[1:,0])\n",
    "kolom = 13\n",
    "awal_h_1 = np.zeros((baris,kolom))\n",
    "awal_h_7 = np.zeros((baris,kolom))\n",
    "diskon_h_1 = np.zeros((baris,kolom))\n",
    "diskon_h_7 = np.zeros((baris,kolom))"
   ]
  },
  {
   "cell_type": "code",
   "execution_count": 4,
   "metadata": {},
   "outputs": [],
   "source": [
    "a = 0\n",
    "b = 0\n",
    "c = 0\n",
    "d = 0\n",
    "\n",
    "for i in range (5,57):\n",
    "    if i%2 != 0 and i<=30:\n",
    "        awal_h_1[:,a]=data1[1:,i]\n",
    "        a = a + 1\n",
    "    elif i%2 == 0 and i<=30:\n",
    "        awal_h_7[:,b]=data1[1:,i]\n",
    "        b = b + 1\n",
    "    elif i%2 != 0 and i>=31:\n",
    "        diskon_h_1[:,c]=data1[1:,i]\n",
    "        c = c + 1\n",
    "    elif i%2 == 0 and i>=31:\n",
    "        diskon_h_7[:,d]=data1[1:,i]\n",
    "        d = d + 1\n",
    "\n",
    "x = np.concatenate((awal_h_1,awal_h_7,diskon_h_1,diskon_h_7),axis=1)\n",
    "data1[1:,5:57] = x"
   ]
  },
  {
   "cell_type": "code",
   "execution_count": 5,
   "metadata": {},
   "outputs": [
    {
     "name": "stdout",
     "output_type": "stream",
     "text": [
      "                                               0   \\\n",
      "0                                             NaN   \n",
      "1                                             NaN   \n",
      "2    OYO 1959 Penginapan Kepurun Pawana Indonesia   \n",
      "3                       Queen of The South Resort   \n",
      "4                                     YATS Colony   \n",
      "..                                            ...   \n",
      "446                         Uniq Hotel Yogyakarta   \n",
      "447                   Votel Maerakatja Yogyakarta   \n",
      "448                   Yellow Star Ambarukmo Hotel   \n",
      "449                     Yellow Star Gejayan Hotel   \n",
      "450                                       ZE Spot   \n",
      "\n",
      "                                    1   \\\n",
      "0                                  NaN   \n",
      "1                                  NaN   \n",
      "2          Sleman, Yogyakarta Province   \n",
      "3    Parangtritis, Yogyakarta Province   \n",
      "4      Wirobrajan, Yogyakarta Province   \n",
      "..                                 ...   \n",
      "446     Tegalrejo, Yogyakarta Province   \n",
      "447     Tegalrejo, Yogyakarta Province   \n",
      "448         Depok, Yogyakarta Province   \n",
      "449       Gejayan, Yogyakarta Province   \n",
      "450         Depok, Yogyakarta Province   \n",
      "\n",
      "                                                    2       3    4       5   \\\n",
      "0                                                  NaN     NaN  NaN    1019   \n",
      "1                                                  NaN     NaN  NaN    1020   \n",
      "2    Jl. Ps. Butuh, Gayam, Kepurun, Manisrenggo, Ka...  HOTELS    1  152202   \n",
      "3    Parangtritis Beach, Desa Parangrejo, RT 13/RW ...  HOTELS    4     NaN   \n",
      "4    Jalan Patangpuluhan No.23, Wirobrajan, Yogyaka...  HOTELS    3     NaN   \n",
      "..                                                 ...     ...  ...     ...   \n",
      "446  Jalan Magelang KM 1 No.61, Tegalrejo, Yogyakar...  HOTELS    2  385000   \n",
      "447  Jalan R.W. Monginsidi No.22B, Karangwaru, Tega...  HOTELS    0  224001   \n",
      "448  Jalan Laksda Adisucipto No.23, Depok, Yogyakar...  HOTELS    3  388000   \n",
      "449  Jalan Gejayan No. 27 A , Depok, Gejayan, Yogya...  HOTELS    3  378000   \n",
      "450  Jl. Nangka II No. 6 ,Karangnongko, Maguwoharjo...  HOTELS    0  266665   \n",
      "\n",
      "         6       7       8       9   ...    61    62    63    64    65    66  \\\n",
      "0       NaN    1020     NaN    1021  ...  1023  1024  1025  1026  1027  1028   \n",
      "1      1021    1022    1023    1024  ...   NaN   NaN   NaN   NaN   NaN   NaN   \n",
      "2    152464     NaN     NaN     NaN  ...   NaN   NaN   7.2   NaN   NaN   NaN   \n",
      "3       NaN     NaN     NaN     NaN  ...   8.3   NaN   8.3   8.3   8.3   NaN   \n",
      "4       NaN     NaN     NaN     NaN  ...   8.9   8.9   8.9   8.9   8.9   8.9   \n",
      "..      ...     ...     ...     ...  ...   ...   ...   ...   ...   ...   ...   \n",
      "446  400000  500000  600000  350000  ...   8.4   8.4   8.4   8.4   8.4   8.4   \n",
      "447  290667  277334  277334  304000  ...   8.5   8.5   8.5   8.5   8.5   8.6   \n",
      "448  388000  458000  558000  350500  ...   8.4   8.4   8.4   8.4   8.4   8.4   \n",
      "449  378000  428000  528000  340500  ...   8.5   8.5   8.5   8.5   8.5   8.5   \n",
      "450  266665  266665  266665  266665  ...     0     0     0     0     0     0   \n",
      "\n",
      "       67    68    69                                                 70  \n",
      "0    1029  1030  1031                                                NaN  \n",
      "1     NaN   NaN   NaN                                                NaN  \n",
      "2     NaN   7.2   7.2                        AC,Restaurant,Parking,WiFi,  \n",
      "3     NaN   8.3   8.3  AC,Restaurant,Swimming Pool,24-Hour Front Desk...  \n",
      "4     NaN   NaN   NaN  AC,Restaurant,Swimming Pool,24-Hour Front Desk...  \n",
      "..    ...   ...   ...                                                ...  \n",
      "446   8.4   8.4   8.4  AC,Restaurant,24-Hour Front Desk,Parking,Eleva...  \n",
      "447   8.6   8.5   8.5                AC,24-Hour Front Desk,Parking,WiFi,  \n",
      "448   8.4   8.4   8.4  AC,Restaurant,24-Hour Front Desk,Parking,Eleva...  \n",
      "449   8.5   8.5   8.5  AC,Restaurant,24-Hour Front Desk,Parking,Eleva...  \n",
      "450     0     0     0                AC,24-Hour Front Desk,Parking,WiFi,  \n",
      "\n",
      "[451 rows x 71 columns]\n"
     ]
    }
   ],
   "source": [
    "df_data = pd.DataFrame(data1)\n",
    "print(df_data)\n",
    "df_data.to_excel(r\"C:\\Users\\Acer\\Downloads\\data_rapi_jakarta_H.xlsx\")"
   ]
  }
 ],
 "metadata": {
  "kernelspec": {
   "display_name": "Python 3 (ipykernel)",
   "language": "python",
   "name": "python3"
  },
  "language_info": {
   "codemirror_mode": {
    "name": "ipython",
    "version": 3
   },
   "file_extension": ".py",
   "mimetype": "text/x-python",
   "name": "python",
   "nbconvert_exporter": "python",
   "pygments_lexer": "ipython3",
   "version": "3.9.12"
  }
 },
 "nbformat": 4,
 "nbformat_minor": 4
}
