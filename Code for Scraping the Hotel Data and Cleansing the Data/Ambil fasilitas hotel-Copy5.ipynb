{
 "cells": [
  {
   "cell_type": "code",
   "execution_count": null,
   "metadata": {},
   "outputs": [],
   "source": [
    "from selenium import webdriver\n",
    "from time import sleep\n",
    "import pandas as pd\n",
    "import openpyxl\n",
    "import numpy as np\n",
    "import random as rand"
   ]
  },
  {
   "cell_type": "code",
   "execution_count": null,
   "metadata": {},
   "outputs": [],
   "source": [
    "#Import data\n",
    "df1 = pd.read_excel(r'C:\\Users\\Acer\\OneDrive - Institut Teknologi Bandung\\Magang BI\\Data\\Web Scraping Hotel\\data fix\\data_fix_Jakarta.xlsx', sheet_name=\"Sheet1\",engine = \"openpyxl\")\n",
    "data1 = np.array(df1)"
   ]
  },
  {
   "cell_type": "code",
   "execution_count": null,
   "metadata": {},
   "outputs": [],
   "source": [
    "#Buka Traveloka\n",
    "link = \"https://www.traveloka.com/en-id/hotel/search?spec=27-11-2021.28-11-2021.1.1.HOTEL_GEO.102813.Jakarta.2\"\n",
    "path = \"C:\\Program Files (x86)\\chromedriver2.exe\"\n",
    "driver = webdriver.Chrome(path)\n",
    "driver.get(link)\n",
    "\n",
    "for i in range(2,215):\n",
    "    waktu = rand.randrange(5,7)\n",
    "    #Masukkan dan cari nama hotel\n",
    "    sleep(waktu)\n",
    "    search_button = driver.find_element_by_class_name(\"_1VnvT\")\n",
    "    input_hotel = search_button.find_element_by_xpath(\"/html/body/div[1]/div[2]/div/div[2]/div[2]/div[3]/div[2]/div[2]/div/div[2]/div/div[3]/div/div[1]/label/div/div/div[2]/div/input\")\n",
    "    input_hotel.send_keys(data1[i,1])\n",
    "    hasil = driver.find_element_by_xpath(\"/html/body/div[1]/div[2]/div/div[2]/div[2]/div[3]/div[2]/div[2]/div/div[2]/div/div[3]/div/div[2]/div/div/div[2]/div\")\n",
    "    hasil.click()\n",
    "    sleep(waktu)\n",
    "    hotel = driver.find_element_by_xpath(\"/html/body/div[1]/div[2]/div/div[2]/div[2]/div[3]/div[2]/div[3]/div[1]/div\")\n",
    "    hotel.click()\n",
    "\n",
    "    #Ambil data hotel\n",
    "    try:\n",
    "        sleep(waktu)\n",
    "        driver.switch_to.window(driver.window_handles[1])\n",
    "        tipe = driver.find_element_by_class_name(\"_1kzbT\")\n",
    "        alamat = driver.find_element_by_class_name(\"_1I8E_\")\n",
    "        fasilitas = driver.find_elements_by_class_name(\"ImD1q\") \n",
    "\n",
    "        data1[i,4] = tipe.text\n",
    "        data1[i,3] = alamat.text\n",
    "        data1[i,71] = \"\"\n",
    "        for j in range (len(fasilitas)):\n",
    "            data1[i,71] = str(data1[i,71]) + fasilitas[j].text + \",\"\n",
    "\n",
    "        #tutup tab\n",
    "        driver.close()\n",
    "        driver.switch_to.window(driver.window_handles[0]) \n",
    "    except:\n",
    "        continue"
   ]
  },
  {
   "cell_type": "code",
   "execution_count": null,
   "metadata": {
    "scrolled": true
   },
   "outputs": [],
   "source": [
    "df_data = pd.DataFrame(data1)\n",
    "print(df_data)\n",
    "df_data.to_excel(r\"C:\\Users\\Acer\\Downloads\\data_Jakarta_lengkap.xlsx\")"
   ]
  },
  {
   "cell_type": "code",
   "execution_count": null,
   "metadata": {},
   "outputs": [],
   "source": [
    "print(i)"
   ]
  }
 ],
 "metadata": {
  "kernelspec": {
   "display_name": "Python 3 (ipykernel)",
   "language": "python",
   "name": "python3"
  },
  "language_info": {
   "codemirror_mode": {
    "name": "ipython",
    "version": 3
   },
   "file_extension": ".py",
   "mimetype": "text/x-python",
   "name": "python",
   "nbconvert_exporter": "python",
   "pygments_lexer": "ipython3",
   "version": "3.9.12"
  }
 },
 "nbformat": 4,
 "nbformat_minor": 4
}
