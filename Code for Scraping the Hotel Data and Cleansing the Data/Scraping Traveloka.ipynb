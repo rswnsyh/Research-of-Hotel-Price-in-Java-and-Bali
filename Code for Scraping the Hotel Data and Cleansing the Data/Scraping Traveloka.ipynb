{
 "cells": [
  {
   "cell_type": "code",
   "execution_count": null,
   "metadata": {},
   "outputs": [],
   "source": [
    "from selenium import webdriver\n",
    "from time import sleep\n",
    "import pandas as pd\n",
    "import openpyxl\n",
    "import numpy as np"
   ]
  },
  {
   "cell_type": "code",
   "execution_count": null,
   "metadata": {},
   "outputs": [],
   "source": [
    "data_nama = []\n",
    "data_bintang = []\n",
    "data_daerah = []\n",
    "data_rating = []\n",
    "data_harga_awal = []\n",
    "data_harga_diskon = []"
   ]
  },
  {
   "cell_type": "code",
   "execution_count": null,
   "metadata": {},
   "outputs": [],
   "source": [
    "def ambil_data():\n",
    "    sleep(3)\n",
    "    content = driver.find_element_by_id(\"desktopContentV3\")\n",
    "    sleep(5)\n",
    "    semua_hotel = content.find_element_by_class_name(\"_2qd8A\")\n",
    "    keterangan = semua_hotel.find_elements_by_class_name(\"_1lxaf\")\n",
    "\n",
    "    for ket_i in (keterangan):\n",
    "\n",
    "        #Ambil nama\n",
    "        nama = ket_i.find_element_by_class_name(\"_2Es0e\").text\n",
    "        data_nama.append(nama)\n",
    "\n",
    "        #Ambil bintang\n",
    "        try:\n",
    "            class_bintang = ket_i.find_element_by_class_name(\"_1KMP3\")\n",
    "            bintang = class_bintang.find_element_by_tag_name(\"meta\").get_attribute(\"content\")\n",
    "        except:\n",
    "            bintang = 0\n",
    "            pass\n",
    "        data_bintang.append(bintang)\n",
    "\n",
    "        #Ambil daerah\n",
    "        class_daerah = ket_i.find_element_by_class_name(\"_3tICV\")\n",
    "        daerah = class_daerah.find_element_by_tag_name(\"span\").text\n",
    "        data_daerah.append(daerah)\n",
    "\n",
    "        #Ambil rating\n",
    "        try:\n",
    "            class_rating = ket_i.find_element_by_class_name(\"_16hDy\")\n",
    "            rating = class_rating.find_element_by_class_name(\"tvat-ratingScore\").text\n",
    "        except:\n",
    "            rating = 0\n",
    "            pass\n",
    "        data_rating.append(rating)\n",
    "\n",
    "    #Ambil harga\n",
    "    harga = semua_hotel.find_elements_by_class_name(\"_3gB8m\")\n",
    "    for harga_i in (harga):\n",
    "        harga_awal = harga_i.find_element_by_class_name(\"LR9Hv\").text.replace(\"Rp\",\"\").replace(\".\",\"\")\n",
    "        harga_diskon = harga_i.find_element_by_class_name(\"_22n9I\").text.replace(\"Rp\",\"\").replace(\".\",\"\")\n",
    "        data_harga_awal.append(harga_awal)\n",
    "        data_harga_diskon.append(harga_diskon)"
   ]
  },
  {
   "cell_type": "code",
   "execution_count": null,
   "metadata": {},
   "outputs": [],
   "source": [
    "#Buka Traveloka\n",
    "link = \"https://www.traveloka.com/en-id/hotel/search?spec=23-06-2022.24-06-2022.1.1.HOTEL_GEO.103859.Bandung.1\"\n",
    "path = \"C:\\Program Files (x86)\\chromedriver2.exe\"\n",
    "driver = webdriver.Chrome(path)\n",
    "driver.get(link)\n",
    "for i in range(5):\n",
    "    ambil_data()\n",
    "    sleep(3)\n",
    "    next_button = driver.find_element_by_id(\"next-button\")\n",
    "    next_button.click()\n",
    "\n",
    "data = np.c_[data_nama, data_bintang, data_daerah, data_rating, data_harga_awal, data_harga_diskon]"
   ]
  },
  {
   "cell_type": "code",
   "execution_count": null,
   "metadata": {},
   "outputs": [],
   "source": [
    "df_data = pd.DataFrame(data, columns = [\"Nama\", \"Bintang\", \"Daerah\", \"Rating\", \"Harga Awal\", \"Harga Diskon\"])\n",
    "print(df_data)\n",
    "df_data.to_excel(r\"C:\\Users\\Acer\\Downloads\\Bandung_H.xlsx\")"
   ]
  },
  {
   "cell_type": "code",
   "execution_count": null,
   "metadata": {},
   "outputs": [],
   "source": [
    "print(i)"
   ]
  }
 ],
 "metadata": {
  "kernelspec": {
   "display_name": "Python 3 (ipykernel)",
   "language": "python",
   "name": "python3"
  },
  "language_info": {
   "codemirror_mode": {
    "name": "ipython",
    "version": 3
   },
   "file_extension": ".py",
   "mimetype": "text/x-python",
   "name": "python",
   "nbconvert_exporter": "python",
   "pygments_lexer": "ipython3",
   "version": "3.9.12"
  }
 },
 "nbformat": 4,
 "nbformat_minor": 4
}
